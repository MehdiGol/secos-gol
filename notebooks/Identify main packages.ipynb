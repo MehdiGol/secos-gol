{
 "cells": [
  {
   "cell_type": "markdown",
   "metadata": {},
   "source": [
    "# Identify main packages in repositories"
   ]
  },
  {
   "cell_type": "code",
   "execution_count": 1,
   "metadata": {},
   "outputs": [],
   "source": [
    "import pandas\n",
    "import matplotlib\n",
    "import seaborn\n",
    "\n",
    "import itertools\n",
    "import sklearn  # Just to check that this library is available now"
   ]
  },
  {
   "cell_type": "code",
   "execution_count": 58,
   "metadata": {},
   "outputs": [],
   "source": [
    "# To easily change figure size\n",
    "FIG_SIZE = (6, 3)"
   ]
  },
  {
   "cell_type": "code",
   "execution_count": 3,
   "metadata": {},
   "outputs": [],
   "source": [
    "%matplotlib inline\n",
    "\n",
    "matplotlib.rcParams['figure.figsize'] = FIG_SIZE\n",
    "matplotlib.rcParams['text.latex.preamble'] = [r'\\usepackage{amsmath}']"
   ]
  },
  {
   "cell_type": "markdown",
   "metadata": {},
   "source": [
    "## Load data"
   ]
  },
  {
   "cell_type": "code",
   "execution_count": 4,
   "metadata": {},
   "outputs": [
    {
     "data": {
      "text/html": [
       "<div>\n",
       "<style scoped>\n",
       "    .dataframe tbody tr th:only-of-type {\n",
       "        vertical-align: middle;\n",
       "    }\n",
       "\n",
       "    .dataframe tbody tr th {\n",
       "        vertical-align: top;\n",
       "    }\n",
       "\n",
       "    .dataframe thead th {\n",
       "        text-align: right;\n",
       "    }\n",
       "</style>\n",
       "<table border=\"1\" class=\"dataframe\">\n",
       "  <thead>\n",
       "    <tr style=\"text-align: right;\">\n",
       "      <th></th>\n",
       "      <th>Package</th>\n",
       "      <th>Repository_URL</th>\n",
       "      <th>Repository</th>\n",
       "      <th>versions</th>\n",
       "      <th>first_release_date</th>\n",
       "      <th>dependents</th>\n",
       "    </tr>\n",
       "  </thead>\n",
       "  <tbody>\n",
       "    <tr>\n",
       "      <th>0</th>\n",
       "      <td>advapi32-sys</td>\n",
       "      <td>https://github.com/retep998/winapi-rs</td>\n",
       "      <td>winapi-rs</td>\n",
       "      <td>8</td>\n",
       "      <td>2015-01-19 10:26:00</td>\n",
       "      <td>17</td>\n",
       "    </tr>\n",
       "    <tr>\n",
       "      <th>1</th>\n",
       "      <td>algebloat</td>\n",
       "      <td>https://github.com/SiegeLord/RustAlgebloat</td>\n",
       "      <td>RustAlgebloat</td>\n",
       "      <td>13</td>\n",
       "      <td>2014-12-16 05:26:00</td>\n",
       "      <td>0</td>\n",
       "    </tr>\n",
       "    <tr>\n",
       "      <th>2</th>\n",
       "      <td>algebloat_macros</td>\n",
       "      <td>https://github.com/SiegeLord/RustAlgebloat</td>\n",
       "      <td>RustAlgebloat</td>\n",
       "      <td>13</td>\n",
       "      <td>2014-12-16 05:26:00</td>\n",
       "      <td>1</td>\n",
       "    </tr>\n",
       "    <tr>\n",
       "      <th>3</th>\n",
       "      <td>allegro_acodec</td>\n",
       "      <td>https://github.com/SiegeLord/RustAllegro</td>\n",
       "      <td>RustAllegro</td>\n",
       "      <td>31</td>\n",
       "      <td>2014-12-17 16:38:00</td>\n",
       "      <td>1</td>\n",
       "    </tr>\n",
       "    <tr>\n",
       "      <th>4</th>\n",
       "      <td>allegro_acodec-sys</td>\n",
       "      <td>https://github.com/SiegeLord/RustAllegro</td>\n",
       "      <td>RustAllegro</td>\n",
       "      <td>29</td>\n",
       "      <td>2015-01-04 02:11:00</td>\n",
       "      <td>1</td>\n",
       "    </tr>\n",
       "  </tbody>\n",
       "</table>\n",
       "</div>"
      ],
      "text/plain": [
       "              Package                              Repository_URL  \\\n",
       "0        advapi32-sys       https://github.com/retep998/winapi-rs   \n",
       "1           algebloat  https://github.com/SiegeLord/RustAlgebloat   \n",
       "2    algebloat_macros  https://github.com/SiegeLord/RustAlgebloat   \n",
       "3      allegro_acodec    https://github.com/SiegeLord/RustAllegro   \n",
       "4  allegro_acodec-sys    https://github.com/SiegeLord/RustAllegro   \n",
       "\n",
       "      Repository  versions  first_release_date  dependents  \n",
       "0      winapi-rs         8 2015-01-19 10:26:00          17  \n",
       "1  RustAlgebloat        13 2014-12-16 05:26:00           0  \n",
       "2  RustAlgebloat        13 2014-12-16 05:26:00           1  \n",
       "3    RustAllegro        31 2014-12-17 16:38:00           1  \n",
       "4    RustAllegro        29 2015-01-04 02:11:00           1  "
      ]
     },
     "execution_count": 4,
     "metadata": {},
     "output_type": "execute_result"
    }
   ],
   "source": [
    "df_repo = (\n",
    "    pandas.read_csv('../data/repositories.csv.gz')\n",
    "    .assign(first_release_date=lambda d: pandas.to_datetime(d['first_release_date']))\n",
    ")\n",
    "\n",
    "df_repo.head()"
   ]
  },
  {
   "cell_type": "markdown",
   "metadata": {},
   "source": [
    "All repositories in this dataset have more than one package:"
   ]
  },
  {
   "cell_type": "code",
   "execution_count": 5,
   "metadata": {},
   "outputs": [
    {
     "data": {
      "text/plain": [
       "[Text(0, 0.5, 'number of repositories'),\n",
       " (-0.5, 10),\n",
       " Text(0.5, 0, 'number of packages')]"
      ]
     },
     "execution_count": 5,
     "metadata": {},
     "output_type": "execute_result"
    },
    {
     "data": {
      "image/png": "[encoded data removed]",
      "text/plain": [
       "<Figure size 432x216 with 1 Axes>"
      ]
     },
     "metadata": {
      "needs_background": "light"
     },
     "output_type": "display_data"
    }
   ],
   "source": [
    "fig, ax = matplotlib.pyplot.subplots()\n",
    "\n",
    "seaborn.countplot(\n",
    "    x='Package',\n",
    "    data=(\n",
    "        df_repo\n",
    "        .groupby('Repository_URL')\n",
    "        [['Package']]\n",
    "        .count()\n",
    "    ),\n",
    "    ax=ax\n",
    ")\n",
    "\n",
    "ax.set(\n",
    "    xlabel='number of packages',\n",
    "    xlim=(None, 10),\n",
    "    ylabel='number of repositories',\n",
    ")"
   ]
  },
  {
   "cell_type": "markdown",
   "metadata": {},
   "source": [
    "## Transform data"
   ]
  },
  {
   "cell_type": "markdown",
   "metadata": {},
   "source": [
    "We define several criteria that will be used to identify main packages.\n",
    "Let's first create two additionnal columns that compare the name of the package with the name of the repository."
   ]
  },
  {
   "cell_type": "code",
   "execution_count": 6,
   "metadata": {},
   "outputs": [
    {
     "data": {
      "text/html": [
       "<div>\n",
       "<style scoped>\n",
       "    .dataframe tbody tr th:only-of-type {\n",
       "        vertical-align: middle;\n",
       "    }\n",
       "\n",
       "    .dataframe tbody tr th {\n",
       "        vertical-align: top;\n",
       "    }\n",
       "\n",
       "    .dataframe thead th {\n",
       "        text-align: right;\n",
       "    }\n",
       "</style>\n",
       "<table border=\"1\" class=\"dataframe\">\n",
       "  <thead>\n",
       "    <tr style=\"text-align: right;\">\n",
       "      <th></th>\n",
       "      <th>Package</th>\n",
       "      <th>Repository_URL</th>\n",
       "      <th>Repository</th>\n",
       "      <th>versions</th>\n",
       "      <th>first_release_date</th>\n",
       "      <th>dependents</th>\n",
       "      <th>exact_name</th>\n",
       "      <th>partial_name</th>\n",
       "    </tr>\n",
       "  </thead>\n",
       "  <tbody>\n",
       "    <tr>\n",
       "      <th>0</th>\n",
       "      <td>advapi32-sys</td>\n",
       "      <td>https://github.com/retep998/winapi-rs</td>\n",
       "      <td>winapi-rs</td>\n",
       "      <td>8</td>\n",
       "      <td>2015-01-19 10:26:00</td>\n",
       "      <td>17</td>\n",
       "      <td>False</td>\n",
       "      <td>False</td>\n",
       "    </tr>\n",
       "    <tr>\n",
       "      <th>1</th>\n",
       "      <td>algebloat</td>\n",
       "      <td>https://github.com/SiegeLord/RustAlgebloat</td>\n",
       "      <td>RustAlgebloat</td>\n",
       "      <td>13</td>\n",
       "      <td>2014-12-16 05:26:00</td>\n",
       "      <td>0</td>\n",
       "      <td>False</td>\n",
       "      <td>True</td>\n",
       "    </tr>\n",
       "    <tr>\n",
       "      <th>2</th>\n",
       "      <td>algebloat_macros</td>\n",
       "      <td>https://github.com/SiegeLord/RustAlgebloat</td>\n",
       "      <td>RustAlgebloat</td>\n",
       "      <td>13</td>\n",
       "      <td>2014-12-16 05:26:00</td>\n",
       "      <td>1</td>\n",
       "      <td>False</td>\n",
       "      <td>False</td>\n",
       "    </tr>\n",
       "    <tr>\n",
       "      <th>3</th>\n",
       "      <td>allegro_acodec</td>\n",
       "      <td>https://github.com/SiegeLord/RustAllegro</td>\n",
       "      <td>RustAllegro</td>\n",
       "      <td>31</td>\n",
       "      <td>2014-12-17 16:38:00</td>\n",
       "      <td>1</td>\n",
       "      <td>False</td>\n",
       "      <td>False</td>\n",
       "    </tr>\n",
       "    <tr>\n",
       "      <th>4</th>\n",
       "      <td>allegro_acodec-sys</td>\n",
       "      <td>https://github.com/SiegeLord/RustAllegro</td>\n",
       "      <td>RustAllegro</td>\n",
       "      <td>29</td>\n",
       "      <td>2015-01-04 02:11:00</td>\n",
       "      <td>1</td>\n",
       "      <td>False</td>\n",
       "      <td>False</td>\n",
       "    </tr>\n",
       "  </tbody>\n",
       "</table>\n",
       "</div>"
      ],
      "text/plain": [
       "              Package                              Repository_URL  \\\n",
       "0        advapi32-sys       https://github.com/retep998/winapi-rs   \n",
       "1           algebloat  https://github.com/SiegeLord/RustAlgebloat   \n",
       "2    algebloat_macros  https://github.com/SiegeLord/RustAlgebloat   \n",
       "3      allegro_acodec    https://github.com/SiegeLord/RustAllegro   \n",
       "4  allegro_acodec-sys    https://github.com/SiegeLord/RustAllegro   \n",
       "\n",
       "      Repository  versions  first_release_date  dependents  exact_name  \\\n",
       "0      winapi-rs         8 2015-01-19 10:26:00          17       False   \n",
       "1  RustAlgebloat        13 2014-12-16 05:26:00           0       False   \n",
       "2  RustAlgebloat        13 2014-12-16 05:26:00           1       False   \n",
       "3    RustAllegro        31 2014-12-17 16:38:00           1       False   \n",
       "4    RustAllegro        29 2015-01-04 02:11:00           1       False   \n",
       "\n",
       "   partial_name  \n",
       "0         False  \n",
       "1          True  \n",
       "2         False  \n",
       "3         False  \n",
       "4         False  "
      ]
     },
     "execution_count": 6,
     "metadata": {},
     "output_type": "execute_result"
    }
   ],
   "source": [
    "df_crit = (\n",
    "    df_repo\n",
    "    .assign(exact_name=lambda d: d['Package'].str.lower() == d['Repository'].str.lower())\n",
    "    .assign(partial_name=lambda d: \n",
    "            (d.apply(lambda s: s['Package'].lower() in s['Repository'].lower(), axis=1))\n",
    "        |   (d.apply(lambda s: s['Repository'].lower() in s['Package'].lower(), axis=1))\n",
    "    )\n",
    ")\n",
    "\n",
    "df_crit.head()"
   ]
  },
  {
   "cell_type": "markdown",
   "metadata": {},
   "source": [
    "We define several criteria, and we compute their value: a package that is \"first\" (even with draws) for a criterion will be selected as a \"main package\" according to that criterion."
   ]
  },
  {
   "cell_type": "code",
   "execution_count": 7,
   "metadata": {},
   "outputs": [],
   "source": [
    "criteria = ['exact_name', 'partial_name', 'most_versions', 'first_released', 'most_dependents']"
   ]
  },
  {
   "cell_type": "code",
   "execution_count": 8,
   "metadata": {},
   "outputs": [],
   "source": [
    "df_crit = (\n",
    "    df_crit\n",
    "    .groupby('Repository_URL', sort=False)\n",
    "    .apply(lambda group:\n",
    "        group.assign(\n",
    "            # Create new columns based on existing ones. They are ranked\n",
    "            # by their value. Draws lead to the same value.\n",
    "            most_versions=lambda d: (d['versions'].rank(method='min', ascending=False) == 1),\n",
    "            first_released=lambda d: (d['first_release_date'].rank(method='min') == 1),\n",
    "            most_dependents=lambda d: (d['dependents'].rank(method='min', ascending=False) == 1),\n",
    "        )\n",
    "    )\n",
    "    # Clean dataframe structure\n",
    "    .reset_index(drop=True)\n",
    "    [['Package', 'Repository_URL'] + criteria]\n",
    ")"
   ]
  },
  {
   "cell_type": "code",
   "execution_count": 9,
   "metadata": {},
   "outputs": [
    {
     "data": {
      "text/html": [
       "<div>\n",
       "<style scoped>\n",
       "    .dataframe tbody tr th:only-of-type {\n",
       "        vertical-align: middle;\n",
       "    }\n",
       "\n",
       "    .dataframe tbody tr th {\n",
       "        vertical-align: top;\n",
       "    }\n",
       "\n",
       "    .dataframe thead th {\n",
       "        text-align: right;\n",
       "    }\n",
       "</style>\n",
       "<table border=\"1\" class=\"dataframe\">\n",
       "  <thead>\n",
       "    <tr style=\"text-align: right;\">\n",
       "      <th></th>\n",
       "      <th>Package</th>\n",
       "      <th>Repository_URL</th>\n",
       "      <th>exact_name</th>\n",
       "      <th>partial_name</th>\n",
       "      <th>most_versions</th>\n",
       "      <th>first_released</th>\n",
       "      <th>most_dependents</th>\n",
       "    </tr>\n",
       "  </thead>\n",
       "  <tbody>\n",
       "    <tr>\n",
       "      <th>0</th>\n",
       "      <td>advapi32-sys</td>\n",
       "      <td>https://github.com/retep998/winapi-rs</td>\n",
       "      <td>False</td>\n",
       "      <td>False</td>\n",
       "      <td>False</td>\n",
       "      <td>False</td>\n",
       "      <td>False</td>\n",
       "    </tr>\n",
       "    <tr>\n",
       "      <th>1</th>\n",
       "      <td>gdi32-sys</td>\n",
       "      <td>https://github.com/retep998/winapi-rs</td>\n",
       "      <td>False</td>\n",
       "      <td>False</td>\n",
       "      <td>False</td>\n",
       "      <td>False</td>\n",
       "      <td>False</td>\n",
       "    </tr>\n",
       "    <tr>\n",
       "      <th>2</th>\n",
       "      <td>kernel32-sys</td>\n",
       "      <td>https://github.com/retep998/winapi-rs</td>\n",
       "      <td>False</td>\n",
       "      <td>False</td>\n",
       "      <td>False</td>\n",
       "      <td>False</td>\n",
       "      <td>False</td>\n",
       "    </tr>\n",
       "    <tr>\n",
       "      <th>3</th>\n",
       "      <td>ole32-sys</td>\n",
       "      <td>https://github.com/retep998/winapi-rs</td>\n",
       "      <td>False</td>\n",
       "      <td>False</td>\n",
       "      <td>False</td>\n",
       "      <td>False</td>\n",
       "      <td>False</td>\n",
       "    </tr>\n",
       "    <tr>\n",
       "      <th>4</th>\n",
       "      <td>shell32-sys</td>\n",
       "      <td>https://github.com/retep998/winapi-rs</td>\n",
       "      <td>False</td>\n",
       "      <td>False</td>\n",
       "      <td>False</td>\n",
       "      <td>False</td>\n",
       "      <td>False</td>\n",
       "    </tr>\n",
       "    <tr>\n",
       "      <th>5</th>\n",
       "      <td>user32-sys</td>\n",
       "      <td>https://github.com/retep998/winapi-rs</td>\n",
       "      <td>False</td>\n",
       "      <td>False</td>\n",
       "      <td>False</td>\n",
       "      <td>False</td>\n",
       "      <td>False</td>\n",
       "    </tr>\n",
       "    <tr>\n",
       "      <th>6</th>\n",
       "      <td>winapi</td>\n",
       "      <td>https://github.com/retep998/winapi-rs</td>\n",
       "      <td>False</td>\n",
       "      <td>True</td>\n",
       "      <td>True</td>\n",
       "      <td>True</td>\n",
       "      <td>True</td>\n",
       "    </tr>\n",
       "    <tr>\n",
       "      <th>7</th>\n",
       "      <td>winmm-sys</td>\n",
       "      <td>https://github.com/retep998/winapi-rs</td>\n",
       "      <td>False</td>\n",
       "      <td>False</td>\n",
       "      <td>False</td>\n",
       "      <td>False</td>\n",
       "      <td>False</td>\n",
       "    </tr>\n",
       "    <tr>\n",
       "      <th>8</th>\n",
       "      <td>activeds-sys</td>\n",
       "      <td>https://github.com/retep998/winapi-rs</td>\n",
       "      <td>False</td>\n",
       "      <td>False</td>\n",
       "      <td>False</td>\n",
       "      <td>False</td>\n",
       "      <td>False</td>\n",
       "    </tr>\n",
       "    <tr>\n",
       "      <th>9</th>\n",
       "      <td>aclui-sys</td>\n",
       "      <td>https://github.com/retep998/winapi-rs</td>\n",
       "      <td>False</td>\n",
       "      <td>False</td>\n",
       "      <td>False</td>\n",
       "      <td>False</td>\n",
       "      <td>False</td>\n",
       "    </tr>\n",
       "  </tbody>\n",
       "</table>\n",
       "</div>"
      ],
      "text/plain": [
       "        Package                         Repository_URL  exact_name  \\\n",
       "0  advapi32-sys  https://github.com/retep998/winapi-rs       False   \n",
       "1     gdi32-sys  https://github.com/retep998/winapi-rs       False   \n",
       "2  kernel32-sys  https://github.com/retep998/winapi-rs       False   \n",
       "3     ole32-sys  https://github.com/retep998/winapi-rs       False   \n",
       "4   shell32-sys  https://github.com/retep998/winapi-rs       False   \n",
       "5    user32-sys  https://github.com/retep998/winapi-rs       False   \n",
       "6        winapi  https://github.com/retep998/winapi-rs       False   \n",
       "7     winmm-sys  https://github.com/retep998/winapi-rs       False   \n",
       "8  activeds-sys  https://github.com/retep998/winapi-rs       False   \n",
       "9     aclui-sys  https://github.com/retep998/winapi-rs       False   \n",
       "\n",
       "   partial_name  most_versions  first_released  most_dependents  \n",
       "0         False          False           False            False  \n",
       "1         False          False           False            False  \n",
       "2         False          False           False            False  \n",
       "3         False          False           False            False  \n",
       "4         False          False           False            False  \n",
       "5         False          False           False            False  \n",
       "6          True           True            True             True  \n",
       "7         False          False           False            False  \n",
       "8         False          False           False            False  \n",
       "9         False          False           False            False  "
      ]
     },
     "execution_count": 9,
     "metadata": {},
     "output_type": "execute_result"
    }
   ],
   "source": [
    "df_crit.head(10)"
   ]
  },
  {
   "cell_type": "markdown",
   "metadata": {},
   "source": [
    "We now rely on those criterion to identify main packages (they are not necessarily unique) for each repository."
   ]
  },
  {
   "cell_type": "code",
   "execution_count": 10,
   "metadata": {},
   "outputs": [],
   "source": [
    "df_crit = (\n",
    "    df_crit\n",
    "    .assign(criteria=lambda d: d[criteria].sum(axis=1))\n",
    "    .groupby('Repository_URL', sort=False)\n",
    "    .apply(lambda group: \n",
    "        group.assign(\n",
    "            main=lambda d: (d['criteria'].rank(method='min', ascending=False) == 1),\n",
    "        )\n",
    "    )\n",
    "    .reset_index(drop=True)\n",
    ")"
   ]
  },
  {
   "cell_type": "code",
   "execution_count": 11,
   "metadata": {},
   "outputs": [
    {
     "data": {
      "text/html": [
       "<div>\n",
       "<style scoped>\n",
       "    .dataframe tbody tr th:only-of-type {\n",
       "        vertical-align: middle;\n",
       "    }\n",
       "\n",
       "    .dataframe tbody tr th {\n",
       "        vertical-align: top;\n",
       "    }\n",
       "\n",
       "    .dataframe thead th {\n",
       "        text-align: right;\n",
       "    }\n",
       "</style>\n",
       "<table border=\"1\" class=\"dataframe\">\n",
       "  <thead>\n",
       "    <tr style=\"text-align: right;\">\n",
       "      <th></th>\n",
       "      <th>Package</th>\n",
       "      <th>Repository_URL</th>\n",
       "      <th>exact_name</th>\n",
       "      <th>partial_name</th>\n",
       "      <th>most_versions</th>\n",
       "      <th>first_released</th>\n",
       "      <th>most_dependents</th>\n",
       "      <th>criteria</th>\n",
       "      <th>main</th>\n",
       "    </tr>\n",
       "  </thead>\n",
       "  <tbody>\n",
       "    <tr>\n",
       "      <th>469</th>\n",
       "      <td>cssparser-macros</td>\n",
       "      <td>https://github.com/servo/rust-cssparser</td>\n",
       "      <td>False</td>\n",
       "      <td>False</td>\n",
       "      <td>False</td>\n",
       "      <td>False</td>\n",
       "      <td>False</td>\n",
       "      <td>0</td>\n",
       "      <td>False</td>\n",
       "    </tr>\n",
       "    <tr>\n",
       "      <th>2391</th>\n",
       "      <td>rocket</td>\n",
       "      <td>https://github.com/SergioBenitez/Rocket</td>\n",
       "      <td>True</td>\n",
       "      <td>True</td>\n",
       "      <td>True</td>\n",
       "      <td>True</td>\n",
       "      <td>True</td>\n",
       "      <td>5</td>\n",
       "      <td>True</td>\n",
       "    </tr>\n",
       "    <tr>\n",
       "      <th>1523</th>\n",
       "      <td>tweetnacl-sys</td>\n",
       "      <td>https://github.com/jmesmon/sodalite</td>\n",
       "      <td>False</td>\n",
       "      <td>False</td>\n",
       "      <td>False</td>\n",
       "      <td>False</td>\n",
       "      <td>True</td>\n",
       "      <td>1</td>\n",
       "      <td>False</td>\n",
       "    </tr>\n",
       "    <tr>\n",
       "      <th>2846</th>\n",
       "      <td>hyper-zipkin</td>\n",
       "      <td>https://github.com/palantir/rust-zipkin</td>\n",
       "      <td>False</td>\n",
       "      <td>False</td>\n",
       "      <td>False</td>\n",
       "      <td>False</td>\n",
       "      <td>False</td>\n",
       "      <td>0</td>\n",
       "      <td>False</td>\n",
       "    </tr>\n",
       "    <tr>\n",
       "      <th>2669</th>\n",
       "      <td>enum-kinds-traits</td>\n",
       "      <td>https://bitbucket.org/Soft/enum-kinds</td>\n",
       "      <td>False</td>\n",
       "      <td>True</td>\n",
       "      <td>False</td>\n",
       "      <td>True</td>\n",
       "      <td>True</td>\n",
       "      <td>3</td>\n",
       "      <td>False</td>\n",
       "    </tr>\n",
       "  </tbody>\n",
       "</table>\n",
       "</div>"
      ],
      "text/plain": [
       "                Package                           Repository_URL  exact_name  \\\n",
       "469    cssparser-macros  https://github.com/servo/rust-cssparser       False   \n",
       "2391             rocket  https://github.com/SergioBenitez/Rocket        True   \n",
       "1523      tweetnacl-sys      https://github.com/jmesmon/sodalite       False   \n",
       "2846       hyper-zipkin  https://github.com/palantir/rust-zipkin       False   \n",
       "2669  enum-kinds-traits    https://bitbucket.org/Soft/enum-kinds       False   \n",
       "\n",
       "      partial_name  most_versions  first_released  most_dependents  criteria  \\\n",
       "469          False          False           False            False         0   \n",
       "2391          True           True            True             True         5   \n",
       "1523         False          False           False             True         1   \n",
       "2846         False          False           False            False         0   \n",
       "2669          True          False            True             True         3   \n",
       "\n",
       "       main  \n",
       "469   False  \n",
       "2391   True  \n",
       "1523  False  \n",
       "2846  False  \n",
       "2669  False  "
      ]
     },
     "execution_count": 11,
     "metadata": {},
     "output_type": "execute_result"
    }
   ],
   "source": [
    "# This random_state incidentaly selects interesting examples\n",
    "df_crit.sample(5, random_state=12345)"
   ]
  },
  {
   "cell_type": "markdown",
   "metadata": {},
   "source": [
    "## Main packages are not unique"
   ]
  },
  {
   "cell_type": "markdown",
   "metadata": {},
   "source": [
    "Main packages are not unique. Because a package is tagged as \"main\" if it has the highest score, we could have draws. \n",
    "We look at how many repositories have more than one \"main\" package."
   ]
  },
  {
   "cell_type": "code",
   "execution_count": 63,
   "metadata": {},
   "outputs": [
    {
     "data": {
      "text/plain": [
       "[Text(0, 0.5, 'number of repositories'),\n",
       " Text(0.5, 0, 'number of main packages')]"
      ]
     },
     "execution_count": 63,
     "metadata": {},
     "output_type": "execute_result"
    },
    {
     "data": {
      "image/png": "[encoded data removed]",
      "text/plain": [
       "<Figure size 432x216 with 1 Axes>"
      ]
     },
     "metadata": {
      "needs_background": "light"
     },
     "output_type": "display_data"
    }
   ],
   "source": [
    "fig, ax = matplotlib.pyplot.subplots()\n",
    "\n",
    "seaborn.countplot(\n",
    "    x='Package',\n",
    "    data=(\n",
    "        df_crit\n",
    "        .query('main')\n",
    "        .groupby('Repository_URL', sort=False)\n",
    "        [['Package']]\n",
    "        .count()\n",
    "    ), \n",
    "    ax=ax,\n",
    ")\n",
    "\n",
    "ax.set(\n",
    "    xlabel='number of main packages',\n",
    "    ylabel='number of repositories',\n",
    "    #yscale='log',\n",
    ")"
   ]
  },
  {
   "cell_type": "markdown",
   "metadata": {},
   "source": [
    "One of the reason why repositories can have more than one package is because the \"score\" of these packages could be quite low, leading to more \"draws\". Let's check this hypothesis."
   ]
  },
  {
   "cell_type": "code",
   "execution_count": 64,
   "metadata": {},
   "outputs": [
    {
     "data": {
      "text/plain": [
       "[Text(0, 0.5, 'number of repositories'),\n",
       " Text(0.5, 0, '\"score\" of of main packages')]"
      ]
     },
     "execution_count": 64,
     "metadata": {},
     "output_type": "execute_result"
    },
    {
     "data": {
      "image/png": "[encoded data removed]",
      "text/plain": [
       "<Figure size 432x216 with 1 Axes>"
      ]
     },
     "metadata": {
      "needs_background": "light"
     },
     "output_type": "display_data"
    }
   ],
   "source": [
    "fig, ax = matplotlib.pyplot.subplots()\n",
    "\n",
    "seaborn.countplot(\n",
    "    x='criteria',\n",
    "    data=(\n",
    "        df_crit\n",
    "        .query('main')\n",
    "        .drop_duplicates(['Repository_URL', 'criteria'])\n",
    "    ), \n",
    "    ax=ax,\n",
    ")\n",
    "\n",
    "ax.set(\n",
    "    xlabel='\"score\" of of main packages',\n",
    "    ylabel='number of repositories',\n",
    "    #yscale='log',\n",
    ")"
   ]
  },
  {
   "cell_type": "markdown",
   "metadata": {},
   "source": [
    "Let's now check what is the score in case of \"draws\". "
   ]
  },
  {
   "cell_type": "code",
   "execution_count": 57,
   "metadata": {},
   "outputs": [
    {
     "data": {
      "text/plain": [
       "<matplotlib.legend.Legend at 0x7f36c26629b0>"
      ]
     },
     "execution_count": 57,
     "metadata": {},
     "output_type": "execute_result"
    },
    {
     "data": {
      "image/png": "[encoded data removed]",
      "text/plain": [
       "<Figure size 432x216 with 1 Axes>"
      ]
     },
     "metadata": {
      "needs_background": "light"
     },
     "output_type": "display_data"
    }
   ],
   "source": [
    "fig, ax = matplotlib.pyplot.subplots()\n",
    "\n",
    "seaborn.scatterplot(\n",
    "    x='criteria',\n",
    "    y='Package', \n",
    "    size='number',\n",
    "    hue='number',\n",
    "    data=(\n",
    "        df_crit\n",
    "        .query('main')\n",
    "        .groupby('Repository_URL', sort=False)\n",
    "        .agg({'Package': 'count', 'criteria': 'max'})\n",
    "        .assign(number=1)\n",
    "        .groupby(['Package', 'criteria'], sort=False)\n",
    "        .agg({'Package': 'first', 'criteria': 'first', 'number': 'count'})\n",
    "        .reset_index(drop=True)\n",
    "    ),\n",
    "    ax=ax,\n",
    ")\n",
    "\n",
    "ax.set(\n",
    "    xlabel='\"score\" of main packages',\n",
    "    xlim=(1, 6),\n",
    "    ylabel='number of packages with that score',\n",
    "    ylim=(0, 6),\n",
    ")\n",
    "\n",
    "ax.legend(title='repositories')"
   ]
  },
  {
   "cell_type": "markdown",
   "metadata": {},
   "source": [
    "This suggests that most \"non-draws\" have a score of 3 to 5, while most draws have a score of 2 or 3. "
   ]
  },
  {
   "cell_type": "markdown",
   "metadata": {},
   "source": [
    "## Criteria agreement"
   ]
  },
  {
   "cell_type": "markdown",
   "metadata": {},
   "source": [
    "How many times each criterion leads to the same \"answer\" than \"main\"?"
   ]
  },
  {
   "cell_type": "code",
   "execution_count": 12,
   "metadata": {},
   "outputs": [
    {
     "data": {
      "text/plain": [
       "exact_name         0.798268\n",
       "partial_name       0.668110\n",
       "most_versions      0.832323\n",
       "first_released     0.866089\n",
       "most_dependents    0.817893\n",
       "dtype: float64"
      ]
     },
     "execution_count": 12,
     "metadata": {},
     "output_type": "execute_result"
    }
   ],
   "source": [
    "(\n",
    "    df_crit\n",
    "    .assign(**{\n",
    "        # Use a double lambda to fix \"c\" in the closure of inner lambda\n",
    "        c: (lambda c: (lambda d: d[c] == d['main']))(c) for c in criteria\n",
    "    })\n",
    "    [criteria]\n",
    "    .pipe(lambda d: d.sum() / len(d))\n",
    ")"
   ]
  },
  {
   "cell_type": "markdown",
   "metadata": {},
   "source": [
    "Obviously, not all cases are of interest. For instance, we would like to favour criteria that can be used to identify main packages, not criteria that can be used to identify non-main packages. We therefore compute the confusion matrix for each criterion."
   ]
  },
  {
   "cell_type": "code",
   "execution_count": 13,
   "metadata": {},
   "outputs": [],
   "source": [
    "# We do that in a loop because it's easier to write and we don't have that many data, so we can skip pandas' features this time ;-)\n",
    "matrices = {\n",
    "    c: dict(TP=0, FP=0, TN=0, FN=0)\n",
    "    for c in criteria\n",
    "}\n",
    "\n",
    "for row in df_crit.itertuples():\n",
    "    for criterion in criteria:\n",
    "        if getattr(row, 'main'):\n",
    "            if getattr(row, criterion):\n",
    "                matrices[criterion]['TP'] += 1\n",
    "            else:\n",
    "                matrices[criterion]['FN'] += 1\n",
    "        else:\n",
    "            if getattr(row, criterion):\n",
    "                matrices[criterion]['FP'] += 1\n",
    "            else:\n",
    "                matrices[criterion]['TN'] += 1"
   ]
  },
  {
   "cell_type": "code",
   "execution_count": 14,
   "metadata": {},
   "outputs": [
    {
     "data": {
      "text/plain": [
       "<matplotlib.axes._subplots.AxesSubplot at 0x7f99078d8940>"
      ]
     },
     "execution_count": 14,
     "metadata": {},
     "output_type": "execute_result"
    },
    {
     "data": {
      "image/png": "[encoded data removed]",
      "text/plain": [
       "<Figure size 432x216 with 2 Axes>"
      ]
     },
     "metadata": {
      "needs_background": "light"
     },
     "output_type": "display_data"
    }
   ],
   "source": [
    "fig, ax = matplotlib.pyplot.subplots()\n",
    "\n",
    "seaborn.heatmap(\n",
    "    data=pandas.DataFrame(matrices).T / len(df_crit),\n",
    "    vmin=0, \n",
    "    vmax=1,\n",
    "    annot=True,\n",
    "    ax=ax\n",
    ")\n"
   ]
  },
  {
   "cell_type": "markdown",
   "metadata": {},
   "source": [
    "As this plot is not very useful, let's compute precision and recall for each criterion.\n",
    "We also compute other metrics \"just in case\". \n",
    "Notice that \"accuracy\" is not very reliable here, because the classes are imbalanced."
   ]
  },
  {
   "cell_type": "code",
   "execution_count": 15,
   "metadata": {},
   "outputs": [
    {
     "data": {
      "text/plain": [
       "<matplotlib.axes._subplots.AxesSubplot at 0x7f9907a462e8>"
      ]
     },
     "execution_count": 15,
     "metadata": {},
     "output_type": "execute_result"
    },
    {
     "data": {
      "image/png": "[encoded data removed]",
      "text/plain": [
       "<Figure size 432x216 with 2 Axes>"
      ]
     },
     "metadata": {
      "needs_background": "light"
     },
     "output_type": "display_data"
    }
   ],
   "source": [
    "fig, ax = matplotlib.pyplot.subplots()\n",
    "\n",
    "seaborn.heatmap(\n",
    "    data=(\n",
    "        pandas.DataFrame(matrices)\n",
    "        .T\n",
    "        # Using eval to make it more readable and to we avoid the use of, e.g., d['TP'] + (d['TP'] + d['FP'])\n",
    "        .eval('precision = TP / (TP + FP)')\n",
    "        .eval('recall = TP / (TP + FN)')\n",
    "        .eval('accuracy = (TP + TN) / (TP + TN + FP + FN)')\n",
    "        .eval('F1 = 2 * TP / (2 * TP + FP + FN)')\n",
    "        [['precision', 'recall', 'accuracy', 'F1']]\n",
    "    ),\n",
    "    vmin=0, \n",
    "    vmax=1,\n",
    "    annot=True,\n",
    "    ax=ax\n",
    ")"
   ]
  },
  {
   "cell_type": "markdown",
   "metadata": {},
   "source": [
    "## Combinations of criteria"
   ]
  },
  {
   "cell_type": "markdown",
   "metadata": {},
   "source": [
    "We look for combinations of criteria that could improve these scores. \n",
    "\n",
    "At first, we see pairwise correlations between them, to get a better idea of the possible redundancy."
   ]
  },
  {
   "cell_type": "code",
   "execution_count": 16,
   "metadata": {},
   "outputs": [
    {
     "data": {
      "text/plain": [
       "<matplotlib.axes._subplots.AxesSubplot at 0x7f9907a8ebe0>"
      ]
     },
     "execution_count": 16,
     "metadata": {},
     "output_type": "execute_result"
    },
    {
     "data": {
      "image/png": "[encoded data removed]",
      "text/plain": [
       "<Figure size 432x216 with 2 Axes>"
      ]
     },
     "metadata": {
      "needs_background": "light"
     },
     "output_type": "display_data"
    }
   ],
   "source": [
    "fig, ax = matplotlib.pyplot.subplots()\n",
    "\n",
    "seaborn.heatmap(\n",
    "    data=(\n",
    "        df_crit\n",
    "        [criteria + ['main']]\n",
    "        .corr()\n",
    "    ),\n",
    "    vmin=0, \n",
    "    vmax=1,\n",
    "    annot=True,\n",
    "    ax=ax,\n",
    ")"
   ]
  },
  {
   "cell_type": "markdown",
   "metadata": {},
   "source": [
    "Let's create some decision trees to see what could be the set of useful criteria. We should be careful because classes are imbalanced! "
   ]
  },
  {
   "cell_type": "code",
   "execution_count": 17,
   "metadata": {},
   "outputs": [
    {
     "data": {
      "text/plain": [
       "False    2416\n",
       "True     1049\n",
       "Name: main, dtype: int64"
      ]
     },
     "execution_count": 17,
     "metadata": {},
     "output_type": "execute_result"
    }
   ],
   "source": [
    "df_crit['main'].value_counts()"
   ]
  },
  {
   "cell_type": "markdown",
   "metadata": {},
   "source": [
    "Let's balance classes:"
   ]
  },
  {
   "cell_type": "code",
   "execution_count": 18,
   "metadata": {},
   "outputs": [
    {
     "data": {
      "text/plain": [
       "True     2416\n",
       "False    2416\n",
       "Name: main, dtype: int64"
      ]
     },
     "execution_count": 18,
     "metadata": {},
     "output_type": "execute_result"
    }
   ],
   "source": [
    "from sklearn.utils import resample\n",
    "\n",
    "df_balanced = pandas.concat([\n",
    "    # First the \"non-main packages\" (majority)\n",
    "    # Here query() is more readable than df_crit[~df_crit['main']]\n",
    "    # or even than df_crit[lambda d: ~d['main']]\n",
    "    df_crit.query('not main'),\n",
    "    \n",
    "    # Then we augment the minority class\n",
    "    resample(\n",
    "        df_crit.query('main'), \n",
    "        replace=True, \n",
    "        n_samples=len(df_crit.query('not main')),\n",
    "        random_state=12345,\n",
    "    )\n",
    "])\n",
    "\n",
    "df_balanced['main'].value_counts()"
   ]
  },
  {
   "cell_type": "markdown",
   "metadata": {},
   "source": [
    "To avoid our models to overfit the data, we rely on a split validation. We avoid k-fold cross-validation at this point of the analysis because (1) it leads to k models, making the overall model more difficult to interpret and (2) it requires aggregating scores which could hide some interesting things at this point. The k-fold cross-validation will be performed later."
   ]
  },
  {
   "cell_type": "code",
   "execution_count": 19,
   "metadata": {},
   "outputs": [],
   "source": [
    "from sklearn.model_selection import train_test_split\n",
    "\n",
    "x_train, x_test, y_train, y_test = train_test_split(\n",
    "    df_balanced[criteria], \n",
    "    df_balanced['main'], \n",
    "    test_size=0.5, \n",
    "    random_state=12345  # For reproductibility purpose\n",
    ")"
   ]
  },
  {
   "cell_type": "code",
   "execution_count": 20,
   "metadata": {},
   "outputs": [],
   "source": [
    "from sklearn.tree import DecisionTreeClassifier\n",
    "from sklearn.metrics import recall_score, precision_score, accuracy_score, f1_score\n",
    "\n",
    "scores = {\n",
    "    'recall': recall_score,\n",
    "    'precision': precision_score,\n",
    "    'accuracy': accuracy_score,\n",
    "    'f1_score': f1_score,\n",
    "}"
   ]
  },
  {
   "cell_type": "markdown",
   "metadata": {},
   "source": [
    "We create a first tree based on all critera, just to have an idea on \"how good\" (or \"how bad\") it is."
   ]
  },
  {
   "cell_type": "code",
   "execution_count": 21,
   "metadata": {},
   "outputs": [
    {
     "name": "stdout",
     "output_type": "stream",
     "text": [
      "recall 0.9299258037922506\n",
      "precision 0.8959491660047657\n",
      "accuracy 0.9105960264900662\n",
      "f1_score 0.912621359223301\n"
     ]
    }
   ],
   "source": [
    "tree = DecisionTreeClassifier()\n",
    "tree.fit(x_train, y_train)\n",
    "\n",
    "y_pred = tree.predict(x_test)\n",
    "\n",
    "for label, fun in scores.items():\n",
    "    score = fun(y_test, y_pred)\n",
    "    print(label, score)"
   ]
  },
  {
   "cell_type": "markdown",
   "metadata": {},
   "source": [
    "Let's have a look at the features:"
   ]
  },
  {
   "cell_type": "code",
   "execution_count": 22,
   "metadata": {},
   "outputs": [
    {
     "data": {
      "text/html": [
       "<div>\n",
       "<style scoped>\n",
       "    .dataframe tbody tr th:only-of-type {\n",
       "        vertical-align: middle;\n",
       "    }\n",
       "\n",
       "    .dataframe tbody tr th {\n",
       "        vertical-align: top;\n",
       "    }\n",
       "\n",
       "    .dataframe thead th {\n",
       "        text-align: right;\n",
       "    }\n",
       "</style>\n",
       "<table border=\"1\" class=\"dataframe\">\n",
       "  <thead>\n",
       "    <tr style=\"text-align: right;\">\n",
       "      <th></th>\n",
       "      <th>0</th>\n",
       "    </tr>\n",
       "  </thead>\n",
       "  <tbody>\n",
       "    <tr>\n",
       "      <th>exact_name</th>\n",
       "      <td>0.068821</td>\n",
       "    </tr>\n",
       "    <tr>\n",
       "      <th>partial_name</th>\n",
       "      <td>0.009416</td>\n",
       "    </tr>\n",
       "    <tr>\n",
       "      <th>most_versions</th>\n",
       "      <td>0.234650</td>\n",
       "    </tr>\n",
       "    <tr>\n",
       "      <th>first_released</th>\n",
       "      <td>0.635406</td>\n",
       "    </tr>\n",
       "    <tr>\n",
       "      <th>most_dependents</th>\n",
       "      <td>0.051706</td>\n",
       "    </tr>\n",
       "  </tbody>\n",
       "</table>\n",
       "</div>"
      ],
      "text/plain": [
       "                        0\n",
       "exact_name       0.068821\n",
       "partial_name     0.009416\n",
       "most_versions    0.234650\n",
       "first_released   0.635406\n",
       "most_dependents  0.051706"
      ]
     },
     "execution_count": 22,
     "metadata": {},
     "output_type": "execute_result"
    }
   ],
   "source": [
    "pandas.DataFrame(index=criteria, data=tree.feature_importances_)"
   ]
  },
  {
   "cell_type": "markdown",
   "metadata": {},
   "source": [
    "It seems that not all features are equally important. We already spotted this from the correlation analysis we made earlier.\n",
    "\n",
    "Let's try a naive approach in which we compute all possible combinations of features. "
   ]
  },
  {
   "cell_type": "code",
   "execution_count": 23,
   "metadata": {},
   "outputs": [],
   "source": [
    "# Recipe taken from https://docs.python.org/3/library/itertools.html\n",
    "combinations = list(itertools.chain.from_iterable(itertools.combinations(criteria, r) for r in range(len(criteria)+1)))[1:]"
   ]
  },
  {
   "cell_type": "code",
   "execution_count": 24,
   "metadata": {},
   "outputs": [],
   "source": [
    "results = pandas.DataFrame(index=combinations, columns=scores.keys())\n",
    "\n",
    "for combination in combinations: \n",
    "    x_train, x_test, y_train, y_test = train_test_split(\n",
    "        df_balanced[list(combination)], \n",
    "        df_balanced['main'], \n",
    "        test_size=0.5, \n",
    "        random_state=12345  # For reproductibility purpose\n",
    "    )\n",
    "    tree = DecisionTreeClassifier()\n",
    "    tree.fit(x_train, y_train)\n",
    "    \n",
    "    # Evaluate model\n",
    "    y_pred = tree.predict(x_test)\n",
    "\n",
    "    for label, fun in scores.items():\n",
    "        score = fun(y_test, y_pred)\n",
    "        results.at[combination, label] = score"
   ]
  },
  {
   "cell_type": "code",
   "execution_count": 25,
   "metadata": {},
   "outputs": [
    {
     "data": {
      "text/html": [
       "<div>\n",
       "<style scoped>\n",
       "    .dataframe tbody tr th:only-of-type {\n",
       "        vertical-align: middle;\n",
       "    }\n",
       "\n",
       "    .dataframe tbody tr th {\n",
       "        vertical-align: top;\n",
       "    }\n",
       "\n",
       "    .dataframe thead th {\n",
       "        text-align: right;\n",
       "    }\n",
       "</style>\n",
       "<table border=\"1\" class=\"dataframe\">\n",
       "  <thead>\n",
       "    <tr style=\"text-align: right;\">\n",
       "      <th></th>\n",
       "      <th>recall</th>\n",
       "      <th>precision</th>\n",
       "      <th>accuracy</th>\n",
       "      <th>f1_score</th>\n",
       "    </tr>\n",
       "  </thead>\n",
       "  <tbody>\n",
       "    <tr>\n",
       "      <th>(exact_name,)</th>\n",
       "      <td>0.36521</td>\n",
       "      <td>0.944563</td>\n",
       "      <td>0.67053</td>\n",
       "      <td>0.526754</td>\n",
       "    </tr>\n",
       "    <tr>\n",
       "      <th>(partial_name,)</th>\n",
       "      <td>0.713932</td>\n",
       "      <td>0.669243</td>\n",
       "      <td>0.679222</td>\n",
       "      <td>0.690866</td>\n",
       "    </tr>\n",
       "    <tr>\n",
       "      <th>(most_versions,)</th>\n",
       "      <td>0.826051</td>\n",
       "      <td>0.828099</td>\n",
       "      <td>0.826573</td>\n",
       "      <td>0.827074</td>\n",
       "    </tr>\n",
       "    <tr>\n",
       "      <th>(first_released,)</th>\n",
       "      <td>0.743611</td>\n",
       "      <td>0.905622</td>\n",
       "      <td>0.832368</td>\n",
       "      <td>0.816659</td>\n",
       "    </tr>\n",
       "    <tr>\n",
       "      <th>(most_dependents,)</th>\n",
       "      <td>0.76587</td>\n",
       "      <td>0.824312</td>\n",
       "      <td>0.800497</td>\n",
       "      <td>0.794017</td>\n",
       "    </tr>\n",
       "    <tr>\n",
       "      <th>(exact_name, partial_name)</th>\n",
       "      <td>0.36521</td>\n",
       "      <td>0.944563</td>\n",
       "      <td>0.67053</td>\n",
       "      <td>0.526754</td>\n",
       "    </tr>\n",
       "    <tr>\n",
       "      <th>(exact_name, most_versions)</th>\n",
       "      <td>0.873042</td>\n",
       "      <td>0.827991</td>\n",
       "      <td>0.845199</td>\n",
       "      <td>0.84992</td>\n",
       "    </tr>\n",
       "    <tr>\n",
       "      <th>(exact_name, first_released)</th>\n",
       "      <td>0.843364</td>\n",
       "      <td>0.895013</td>\n",
       "      <td>0.871689</td>\n",
       "      <td>0.868421</td>\n",
       "    </tr>\n",
       "    <tr>\n",
       "      <th>(exact_name, most_dependents)</th>\n",
       "      <td>0.881286</td>\n",
       "      <td>0.829969</td>\n",
       "      <td>0.849752</td>\n",
       "      <td>0.854858</td>\n",
       "    </tr>\n",
       "    <tr>\n",
       "      <th>(partial_name, most_versions)</th>\n",
       "      <td>0.826051</td>\n",
       "      <td>0.828099</td>\n",
       "      <td>0.826573</td>\n",
       "      <td>0.827074</td>\n",
       "    </tr>\n",
       "    <tr>\n",
       "      <th>(partial_name, first_released)</th>\n",
       "      <td>0.743611</td>\n",
       "      <td>0.905622</td>\n",
       "      <td>0.832368</td>\n",
       "      <td>0.816659</td>\n",
       "    </tr>\n",
       "    <tr>\n",
       "      <th>(partial_name, most_dependents)</th>\n",
       "      <td>0.76587</td>\n",
       "      <td>0.824312</td>\n",
       "      <td>0.800497</td>\n",
       "      <td>0.794017</td>\n",
       "    </tr>\n",
       "    <tr>\n",
       "      <th>(most_versions, first_released)</th>\n",
       "      <td>0.967848</td>\n",
       "      <td>0.80854</td>\n",
       "      <td>0.868791</td>\n",
       "      <td>0.881051</td>\n",
       "    </tr>\n",
       "    <tr>\n",
       "      <th>(most_versions, most_dependents)</th>\n",
       "      <td>0.972795</td>\n",
       "      <td>0.777339</td>\n",
       "      <td>0.84644</td>\n",
       "      <td>0.864152</td>\n",
       "    </tr>\n",
       "    <tr>\n",
       "      <th>(first_released, most_dependents)</th>\n",
       "      <td>0.913438</td>\n",
       "      <td>0.809942</td>\n",
       "      <td>0.848924</td>\n",
       "      <td>0.858582</td>\n",
       "    </tr>\n",
       "    <tr>\n",
       "      <th>(exact_name, partial_name, most_versions)</th>\n",
       "      <td>0.873042</td>\n",
       "      <td>0.827991</td>\n",
       "      <td>0.845199</td>\n",
       "      <td>0.84992</td>\n",
       "    </tr>\n",
       "    <tr>\n",
       "      <th>(exact_name, partial_name, first_released)</th>\n",
       "      <td>0.843364</td>\n",
       "      <td>0.895013</td>\n",
       "      <td>0.871689</td>\n",
       "      <td>0.868421</td>\n",
       "    </tr>\n",
       "    <tr>\n",
       "      <th>(exact_name, partial_name, most_dependents)</th>\n",
       "      <td>0.881286</td>\n",
       "      <td>0.829969</td>\n",
       "      <td>0.849752</td>\n",
       "      <td>0.854858</td>\n",
       "    </tr>\n",
       "    <tr>\n",
       "      <th>(exact_name, most_versions, first_released)</th>\n",
       "      <td>0.833471</td>\n",
       "      <td>0.903485</td>\n",
       "      <td>0.871689</td>\n",
       "      <td>0.867067</td>\n",
       "    </tr>\n",
       "    <tr>\n",
       "      <th>(exact_name, most_versions, most_dependents)</th>\n",
       "      <td>0.987634</td>\n",
       "      <td>0.77641</td>\n",
       "      <td>0.850993</td>\n",
       "      <td>0.869376</td>\n",
       "    </tr>\n",
       "    <tr>\n",
       "      <th>(exact_name, first_released, most_dependents)</th>\n",
       "      <td>0.843364</td>\n",
       "      <td>0.895013</td>\n",
       "      <td>0.871689</td>\n",
       "      <td>0.868421</td>\n",
       "    </tr>\n",
       "    <tr>\n",
       "      <th>(partial_name, most_versions, first_released)</th>\n",
       "      <td>0.935697</td>\n",
       "      <td>0.852102</td>\n",
       "      <td>0.886175</td>\n",
       "      <td>0.891945</td>\n",
       "    </tr>\n",
       "    <tr>\n",
       "      <th>(partial_name, most_versions, most_dependents)</th>\n",
       "      <td>0.902721</td>\n",
       "      <td>0.810511</td>\n",
       "      <td>0.845199</td>\n",
       "      <td>0.854134</td>\n",
       "    </tr>\n",
       "    <tr>\n",
       "      <th>(partial_name, first_released, most_dependents)</th>\n",
       "      <td>0.878813</td>\n",
       "      <td>0.871627</td>\n",
       "      <td>0.874172</td>\n",
       "      <td>0.875205</td>\n",
       "    </tr>\n",
       "    <tr>\n",
       "      <th>(most_versions, first_released, most_dependents)</th>\n",
       "      <td>0.857378</td>\n",
       "      <td>0.902778</td>\n",
       "      <td>0.882036</td>\n",
       "      <td>0.879493</td>\n",
       "    </tr>\n",
       "    <tr>\n",
       "      <th>(exact_name, partial_name, most_versions, first_released)</th>\n",
       "      <td>0.935697</td>\n",
       "      <td>0.852102</td>\n",
       "      <td>0.886175</td>\n",
       "      <td>0.891945</td>\n",
       "    </tr>\n",
       "    <tr>\n",
       "      <th>(exact_name, partial_name, most_versions, most_dependents)</th>\n",
       "      <td>0.91756</td>\n",
       "      <td>0.808866</td>\n",
       "      <td>0.849752</td>\n",
       "      <td>0.859791</td>\n",
       "    </tr>\n",
       "    <tr>\n",
       "      <th>(exact_name, partial_name, first_released, most_dependents)</th>\n",
       "      <td>0.926628</td>\n",
       "      <td>0.863287</td>\n",
       "      <td>0.889487</td>\n",
       "      <td>0.893837</td>\n",
       "    </tr>\n",
       "    <tr>\n",
       "      <th>(exact_name, most_versions, first_released, most_dependents)</th>\n",
       "      <td>0.929926</td>\n",
       "      <td>0.895949</td>\n",
       "      <td>0.910596</td>\n",
       "      <td>0.912621</td>\n",
       "    </tr>\n",
       "    <tr>\n",
       "      <th>(partial_name, most_versions, first_released, most_dependents)</th>\n",
       "      <td>0.95878</td>\n",
       "      <td>0.850146</td>\n",
       "      <td>0.894454</td>\n",
       "      <td>0.901201</td>\n",
       "    </tr>\n",
       "    <tr>\n",
       "      <th>(exact_name, partial_name, most_versions, first_released, most_dependents)</th>\n",
       "      <td>0.929926</td>\n",
       "      <td>0.895949</td>\n",
       "      <td>0.910596</td>\n",
       "      <td>0.912621</td>\n",
       "    </tr>\n",
       "  </tbody>\n",
       "</table>\n",
       "</div>"
      ],
      "text/plain": [
       "                                                      recall precision  \\\n",
       "(exact_name,)                                        0.36521  0.944563   \n",
       "(partial_name,)                                     0.713932  0.669243   \n",
       "(most_versions,)                                    0.826051  0.828099   \n",
       "(first_released,)                                   0.743611  0.905622   \n",
       "(most_dependents,)                                   0.76587  0.824312   \n",
       "(exact_name, partial_name)                           0.36521  0.944563   \n",
       "(exact_name, most_versions)                         0.873042  0.827991   \n",
       "(exact_name, first_released)                        0.843364  0.895013   \n",
       "(exact_name, most_dependents)                       0.881286  0.829969   \n",
       "(partial_name, most_versions)                       0.826051  0.828099   \n",
       "(partial_name, first_released)                      0.743611  0.905622   \n",
       "(partial_name, most_dependents)                      0.76587  0.824312   \n",
       "(most_versions, first_released)                     0.967848   0.80854   \n",
       "(most_versions, most_dependents)                    0.972795  0.777339   \n",
       "(first_released, most_dependents)                   0.913438  0.809942   \n",
       "(exact_name, partial_name, most_versions)           0.873042  0.827991   \n",
       "(exact_name, partial_name, first_released)          0.843364  0.895013   \n",
       "(exact_name, partial_name, most_dependents)         0.881286  0.829969   \n",
       "(exact_name, most_versions, first_released)         0.833471  0.903485   \n",
       "(exact_name, most_versions, most_dependents)        0.987634   0.77641   \n",
       "(exact_name, first_released, most_dependents)       0.843364  0.895013   \n",
       "(partial_name, most_versions, first_released)       0.935697  0.852102   \n",
       "(partial_name, most_versions, most_dependents)      0.902721  0.810511   \n",
       "(partial_name, first_released, most_dependents)     0.878813  0.871627   \n",
       "(most_versions, first_released, most_dependents)    0.857378  0.902778   \n",
       "(exact_name, partial_name, most_versions, first...  0.935697  0.852102   \n",
       "(exact_name, partial_name, most_versions, most_...   0.91756  0.808866   \n",
       "(exact_name, partial_name, first_released, most...  0.926628  0.863287   \n",
       "(exact_name, most_versions, first_released, mos...  0.929926  0.895949   \n",
       "(partial_name, most_versions, first_released, m...   0.95878  0.850146   \n",
       "(exact_name, partial_name, most_versions, first...  0.929926  0.895949   \n",
       "\n",
       "                                                    accuracy  f1_score  \n",
       "(exact_name,)                                        0.67053  0.526754  \n",
       "(partial_name,)                                     0.679222  0.690866  \n",
       "(most_versions,)                                    0.826573  0.827074  \n",
       "(first_released,)                                   0.832368  0.816659  \n",
       "(most_dependents,)                                  0.800497  0.794017  \n",
       "(exact_name, partial_name)                           0.67053  0.526754  \n",
       "(exact_name, most_versions)                         0.845199   0.84992  \n",
       "(exact_name, first_released)                        0.871689  0.868421  \n",
       "(exact_name, most_dependents)                       0.849752  0.854858  \n",
       "(partial_name, most_versions)                       0.826573  0.827074  \n",
       "(partial_name, first_released)                      0.832368  0.816659  \n",
       "(partial_name, most_dependents)                     0.800497  0.794017  \n",
       "(most_versions, first_released)                     0.868791  0.881051  \n",
       "(most_versions, most_dependents)                     0.84644  0.864152  \n",
       "(first_released, most_dependents)                   0.848924  0.858582  \n",
       "(exact_name, partial_name, most_versions)           0.845199   0.84992  \n",
       "(exact_name, partial_name, first_released)          0.871689  0.868421  \n",
       "(exact_name, partial_name, most_dependents)         0.849752  0.854858  \n",
       "(exact_name, most_versions, first_released)         0.871689  0.867067  \n",
       "(exact_name, most_versions, most_dependents)        0.850993  0.869376  \n",
       "(exact_name, first_released, most_dependents)       0.871689  0.868421  \n",
       "(partial_name, most_versions, first_released)       0.886175  0.891945  \n",
       "(partial_name, most_versions, most_dependents)      0.845199  0.854134  \n",
       "(partial_name, first_released, most_dependents)     0.874172  0.875205  \n",
       "(most_versions, first_released, most_dependents)    0.882036  0.879493  \n",
       "(exact_name, partial_name, most_versions, first...  0.886175  0.891945  \n",
       "(exact_name, partial_name, most_versions, most_...  0.849752  0.859791  \n",
       "(exact_name, partial_name, first_released, most...  0.889487  0.893837  \n",
       "(exact_name, most_versions, first_released, mos...  0.910596  0.912621  \n",
       "(partial_name, most_versions, first_released, m...  0.894454  0.901201  \n",
       "(exact_name, partial_name, most_versions, first...  0.910596  0.912621  "
      ]
     },
     "execution_count": 25,
     "metadata": {},
     "output_type": "execute_result"
    }
   ],
   "source": [
    "# The following cell contains too many information, we will filter this later.\n",
    "results"
   ]
  },
  {
   "cell_type": "code",
   "execution_count": 26,
   "metadata": {},
   "outputs": [
    {
     "data": {
      "text/html": [
       "<div>\n",
       "<style scoped>\n",
       "    .dataframe tbody tr th:only-of-type {\n",
       "        vertical-align: middle;\n",
       "    }\n",
       "\n",
       "    .dataframe tbody tr th {\n",
       "        vertical-align: top;\n",
       "    }\n",
       "\n",
       "    .dataframe thead th {\n",
       "        text-align: right;\n",
       "    }\n",
       "</style>\n",
       "<table border=\"1\" class=\"dataframe\">\n",
       "  <thead>\n",
       "    <tr style=\"text-align: right;\">\n",
       "      <th></th>\n",
       "      <th>recall</th>\n",
       "      <th>precision</th>\n",
       "      <th>accuracy</th>\n",
       "      <th>f1_score</th>\n",
       "      <th>recall_rank</th>\n",
       "      <th>precision_rank</th>\n",
       "      <th>accuracy_rank</th>\n",
       "      <th>f1_score_rank</th>\n",
       "    </tr>\n",
       "  </thead>\n",
       "  <tbody>\n",
       "    <tr>\n",
       "      <th>(exact_name, partial_name, most_versions, first_released, most_dependents)</th>\n",
       "      <td>0.929926</td>\n",
       "      <td>0.895949</td>\n",
       "      <td>0.910596</td>\n",
       "      <td>0.912621</td>\n",
       "      <td>7.0</td>\n",
       "      <td>7.0</td>\n",
       "      <td>1.0</td>\n",
       "      <td>1.0</td>\n",
       "    </tr>\n",
       "    <tr>\n",
       "      <th>(exact_name, most_versions, first_released, most_dependents)</th>\n",
       "      <td>0.929926</td>\n",
       "      <td>0.895949</td>\n",
       "      <td>0.910596</td>\n",
       "      <td>0.912621</td>\n",
       "      <td>7.0</td>\n",
       "      <td>7.0</td>\n",
       "      <td>1.0</td>\n",
       "      <td>1.0</td>\n",
       "    </tr>\n",
       "    <tr>\n",
       "      <th>(partial_name, most_versions, first_released, most_dependents)</th>\n",
       "      <td>0.95878</td>\n",
       "      <td>0.850146</td>\n",
       "      <td>0.894454</td>\n",
       "      <td>0.901201</td>\n",
       "      <td>4.0</td>\n",
       "      <td>16.0</td>\n",
       "      <td>3.0</td>\n",
       "      <td>3.0</td>\n",
       "    </tr>\n",
       "    <tr>\n",
       "      <th>(exact_name, partial_name, first_released, most_dependents)</th>\n",
       "      <td>0.926628</td>\n",
       "      <td>0.863287</td>\n",
       "      <td>0.889487</td>\n",
       "      <td>0.893837</td>\n",
       "      <td>9.0</td>\n",
       "      <td>13.0</td>\n",
       "      <td>4.0</td>\n",
       "      <td>4.0</td>\n",
       "    </tr>\n",
       "    <tr>\n",
       "      <th>(exact_name, partial_name, most_versions, first_released)</th>\n",
       "      <td>0.935697</td>\n",
       "      <td>0.852102</td>\n",
       "      <td>0.886175</td>\n",
       "      <td>0.891945</td>\n",
       "      <td>5.0</td>\n",
       "      <td>14.0</td>\n",
       "      <td>5.0</td>\n",
       "      <td>5.0</td>\n",
       "    </tr>\n",
       "    <tr>\n",
       "      <th>(partial_name, most_versions, first_released)</th>\n",
       "      <td>0.935697</td>\n",
       "      <td>0.852102</td>\n",
       "      <td>0.886175</td>\n",
       "      <td>0.891945</td>\n",
       "      <td>5.0</td>\n",
       "      <td>14.0</td>\n",
       "      <td>5.0</td>\n",
       "      <td>5.0</td>\n",
       "    </tr>\n",
       "    <tr>\n",
       "      <th>(most_versions, first_released)</th>\n",
       "      <td>0.967848</td>\n",
       "      <td>0.80854</td>\n",
       "      <td>0.868791</td>\n",
       "      <td>0.881051</td>\n",
       "      <td>3.0</td>\n",
       "      <td>28.0</td>\n",
       "      <td>13.0</td>\n",
       "      <td>7.0</td>\n",
       "    </tr>\n",
       "    <tr>\n",
       "      <th>(most_versions, first_released, most_dependents)</th>\n",
       "      <td>0.857378</td>\n",
       "      <td>0.902778</td>\n",
       "      <td>0.882036</td>\n",
       "      <td>0.879493</td>\n",
       "      <td>18.0</td>\n",
       "      <td>6.0</td>\n",
       "      <td>7.0</td>\n",
       "      <td>8.0</td>\n",
       "    </tr>\n",
       "    <tr>\n",
       "      <th>(partial_name, first_released, most_dependents)</th>\n",
       "      <td>0.878813</td>\n",
       "      <td>0.871627</td>\n",
       "      <td>0.874172</td>\n",
       "      <td>0.875205</td>\n",
       "      <td>15.0</td>\n",
       "      <td>12.0</td>\n",
       "      <td>8.0</td>\n",
       "      <td>9.0</td>\n",
       "    </tr>\n",
       "    <tr>\n",
       "      <th>(exact_name, most_versions, most_dependents)</th>\n",
       "      <td>0.987634</td>\n",
       "      <td>0.77641</td>\n",
       "      <td>0.850993</td>\n",
       "      <td>0.869376</td>\n",
       "      <td>1.0</td>\n",
       "      <td>30.0</td>\n",
       "      <td>14.0</td>\n",
       "      <td>10.0</td>\n",
       "    </tr>\n",
       "  </tbody>\n",
       "</table>\n",
       "</div>"
      ],
      "text/plain": [
       "                                                      recall precision  \\\n",
       "(exact_name, partial_name, most_versions, first...  0.929926  0.895949   \n",
       "(exact_name, most_versions, first_released, mos...  0.929926  0.895949   \n",
       "(partial_name, most_versions, first_released, m...   0.95878  0.850146   \n",
       "(exact_name, partial_name, first_released, most...  0.926628  0.863287   \n",
       "(exact_name, partial_name, most_versions, first...  0.935697  0.852102   \n",
       "(partial_name, most_versions, first_released)       0.935697  0.852102   \n",
       "(most_versions, first_released)                     0.967848   0.80854   \n",
       "(most_versions, first_released, most_dependents)    0.857378  0.902778   \n",
       "(partial_name, first_released, most_dependents)     0.878813  0.871627   \n",
       "(exact_name, most_versions, most_dependents)        0.987634   0.77641   \n",
       "\n",
       "                                                    accuracy  f1_score  \\\n",
       "(exact_name, partial_name, most_versions, first...  0.910596  0.912621   \n",
       "(exact_name, most_versions, first_released, mos...  0.910596  0.912621   \n",
       "(partial_name, most_versions, first_released, m...  0.894454  0.901201   \n",
       "(exact_name, partial_name, first_released, most...  0.889487  0.893837   \n",
       "(exact_name, partial_name, most_versions, first...  0.886175  0.891945   \n",
       "(partial_name, most_versions, first_released)       0.886175  0.891945   \n",
       "(most_versions, first_released)                     0.868791  0.881051   \n",
       "(most_versions, first_released, most_dependents)    0.882036  0.879493   \n",
       "(partial_name, first_released, most_dependents)     0.874172  0.875205   \n",
       "(exact_name, most_versions, most_dependents)        0.850993  0.869376   \n",
       "\n",
       "                                                    recall_rank  \\\n",
       "(exact_name, partial_name, most_versions, first...          7.0   \n",
       "(exact_name, most_versions, first_released, mos...          7.0   \n",
       "(partial_name, most_versions, first_released, m...          4.0   \n",
       "(exact_name, partial_name, first_released, most...          9.0   \n",
       "(exact_name, partial_name, most_versions, first...          5.0   \n",
       "(partial_name, most_versions, first_released)               5.0   \n",
       "(most_versions, first_released)                             3.0   \n",
       "(most_versions, first_released, most_dependents)           18.0   \n",
       "(partial_name, first_released, most_dependents)            15.0   \n",
       "(exact_name, most_versions, most_dependents)                1.0   \n",
       "\n",
       "                                                    precision_rank  \\\n",
       "(exact_name, partial_name, most_versions, first...             7.0   \n",
       "(exact_name, most_versions, first_released, mos...             7.0   \n",
       "(partial_name, most_versions, first_released, m...            16.0   \n",
       "(exact_name, partial_name, first_released, most...            13.0   \n",
       "(exact_name, partial_name, most_versions, first...            14.0   \n",
       "(partial_name, most_versions, first_released)                 14.0   \n",
       "(most_versions, first_released)                               28.0   \n",
       "(most_versions, first_released, most_dependents)               6.0   \n",
       "(partial_name, first_released, most_dependents)               12.0   \n",
       "(exact_name, most_versions, most_dependents)                  30.0   \n",
       "\n",
       "                                                    accuracy_rank  \\\n",
       "(exact_name, partial_name, most_versions, first...            1.0   \n",
       "(exact_name, most_versions, first_released, mos...            1.0   \n",
       "(partial_name, most_versions, first_released, m...            3.0   \n",
       "(exact_name, partial_name, first_released, most...            4.0   \n",
       "(exact_name, partial_name, most_versions, first...            5.0   \n",
       "(partial_name, most_versions, first_released)                 5.0   \n",
       "(most_versions, first_released)                              13.0   \n",
       "(most_versions, first_released, most_dependents)              7.0   \n",
       "(partial_name, first_released, most_dependents)               8.0   \n",
       "(exact_name, most_versions, most_dependents)                 14.0   \n",
       "\n",
       "                                                    f1_score_rank  \n",
       "(exact_name, partial_name, most_versions, first...            1.0  \n",
       "(exact_name, most_versions, first_released, mos...            1.0  \n",
       "(partial_name, most_versions, first_released, m...            3.0  \n",
       "(exact_name, partial_name, first_released, most...            4.0  \n",
       "(exact_name, partial_name, most_versions, first...            5.0  \n",
       "(partial_name, most_versions, first_released)                 5.0  \n",
       "(most_versions, first_released)                               7.0  \n",
       "(most_versions, first_released, most_dependents)              8.0  \n",
       "(partial_name, first_released, most_dependents)               9.0  \n",
       "(exact_name, most_versions, most_dependents)                 10.0  "
      ]
     },
     "execution_count": 26,
     "metadata": {},
     "output_type": "execute_result"
    }
   ],
   "source": [
    "# We compute ranks to ease identifying the \"best\" combinations\n",
    "(\n",
    "    results\n",
    "    .assign(**{\n",
    "        '{}_rank'.format(c): (lambda c: (lambda d: d[c].rank(method='min', ascending=False)))(c)\n",
    "        for c in scores.keys()\n",
    "    })\n",
    "    .sort_values('f1_score_rank')\n",
    "    .head(10)\n",
    ")"
   ]
  },
  {
   "cell_type": "markdown",
   "metadata": {},
   "source": [
    "At this point, it looks like \"most_versions\" and \"first_released\" is the smallest subset of criteria that still provides very good results.\n",
    "\n",
    "Because sklearn has a \"feature ranking with recursive feature elimination\" utility, we could achieve the same process using it. Also, I've just discovered this, so I want to play a little bit with it ;-)"
   ]
  },
  {
   "cell_type": "code",
   "execution_count": 27,
   "metadata": {},
   "outputs": [],
   "source": [
    "from sklearn.feature_selection import RFE\n",
    "\n",
    "results = pandas.DataFrame(index=range(1, len(criteria) + 1), columns=['features'] + list(scores.keys()))\n",
    "\n",
    "x_train, x_test, y_train, y_test = train_test_split(\n",
    "    df_balanced[criteria], \n",
    "    df_balanced['main'], \n",
    "    test_size=0.5, \n",
    "    random_state=12345  # For reproductibility purpose\n",
    ")\n",
    "\n",
    "for n_features in range(1, len(criteria) + 1):\n",
    "    selector = RFE(DecisionTreeClassifier(), n_features)\n",
    "    selector.fit(x_train, y_train)\n",
    "    \n",
    "    # Identify features\n",
    "    results.at[n_features, 'features'] = pandas.np.extract(selector.support_, criteria)\n",
    "    \n",
    "    # Evaluate model\n",
    "    y_pred = selector.predict(x_test)\n",
    "\n",
    "    for label, fun in scores.items():\n",
    "        score = fun(y_test, y_pred)\n",
    "        results.at[n_features, label] = score"
   ]
  },
  {
   "cell_type": "code",
   "execution_count": 28,
   "metadata": {},
   "outputs": [
    {
     "data": {
      "text/html": [
       "<div>\n",
       "<style scoped>\n",
       "    .dataframe tbody tr th:only-of-type {\n",
       "        vertical-align: middle;\n",
       "    }\n",
       "\n",
       "    .dataframe tbody tr th {\n",
       "        vertical-align: top;\n",
       "    }\n",
       "\n",
       "    .dataframe thead th {\n",
       "        text-align: right;\n",
       "    }\n",
       "</style>\n",
       "<table border=\"1\" class=\"dataframe\">\n",
       "  <thead>\n",
       "    <tr style=\"text-align: right;\">\n",
       "      <th></th>\n",
       "      <th>features</th>\n",
       "      <th>recall</th>\n",
       "      <th>precision</th>\n",
       "      <th>accuracy</th>\n",
       "      <th>f1_score</th>\n",
       "    </tr>\n",
       "  </thead>\n",
       "  <tbody>\n",
       "    <tr>\n",
       "      <th>1</th>\n",
       "      <td>[first_released]</td>\n",
       "      <td>0.743611</td>\n",
       "      <td>0.905622</td>\n",
       "      <td>0.832368</td>\n",
       "      <td>0.816659</td>\n",
       "    </tr>\n",
       "    <tr>\n",
       "      <th>2</th>\n",
       "      <td>[most_versions, first_released]</td>\n",
       "      <td>0.967848</td>\n",
       "      <td>0.80854</td>\n",
       "      <td>0.868791</td>\n",
       "      <td>0.881051</td>\n",
       "    </tr>\n",
       "    <tr>\n",
       "      <th>3</th>\n",
       "      <td>[exact_name, most_versions, first_released]</td>\n",
       "      <td>0.833471</td>\n",
       "      <td>0.903485</td>\n",
       "      <td>0.871689</td>\n",
       "      <td>0.867067</td>\n",
       "    </tr>\n",
       "    <tr>\n",
       "      <th>4</th>\n",
       "      <td>[exact_name, most_versions, first_released, mo...</td>\n",
       "      <td>0.929926</td>\n",
       "      <td>0.895949</td>\n",
       "      <td>0.910596</td>\n",
       "      <td>0.912621</td>\n",
       "    </tr>\n",
       "    <tr>\n",
       "      <th>5</th>\n",
       "      <td>[exact_name, partial_name, most_versions, firs...</td>\n",
       "      <td>0.929926</td>\n",
       "      <td>0.895949</td>\n",
       "      <td>0.910596</td>\n",
       "      <td>0.912621</td>\n",
       "    </tr>\n",
       "  </tbody>\n",
       "</table>\n",
       "</div>"
      ],
      "text/plain": [
       "                                            features    recall precision  \\\n",
       "1                                   [first_released]  0.743611  0.905622   \n",
       "2                    [most_versions, first_released]  0.967848   0.80854   \n",
       "3        [exact_name, most_versions, first_released]  0.833471  0.903485   \n",
       "4  [exact_name, most_versions, first_released, mo...  0.929926  0.895949   \n",
       "5  [exact_name, partial_name, most_versions, firs...  0.929926  0.895949   \n",
       "\n",
       "   accuracy  f1_score  \n",
       "1  0.832368  0.816659  \n",
       "2  0.868791  0.881051  \n",
       "3  0.871689  0.867067  \n",
       "4  0.910596  0.912621  \n",
       "5  0.910596  0.912621  "
      ]
     },
     "execution_count": 28,
     "metadata": {},
     "output_type": "execute_result"
    }
   ],
   "source": [
    "results"
   ]
  },
  {
   "cell_type": "markdown",
   "metadata": {},
   "source": [
    "Again, we observe that \"most_versions\" + \"first_released\" is a good combination. Remember that because of the way RFE works, each proposed combination is the best one among the ones of the same size. In this case, that means that \"first_released\" is the best attribute to use if only a single one has to be chosen. We also observe that there's no difference between 4 features and 5 features (this implies that \"partial_name\", the one that's missing for 4 features, is totaly redundant with the four other features). "
   ]
  }
 ],
 "metadata": {
  "kernelspec": {
   "display_name": "Python 3",
   "language": "python",
   "name": "python3"
  },
  "language_info": {
   "codemirror_mode": {
    "name": "ipython",
    "version": 3
   },
   "file_extension": ".py",
   "mimetype": "text/x-python",
   "name": "python",
   "nbconvert_exporter": "python",
   "pygments_lexer": "ipython3",
   "version": "3.7.2"
  }
 },
 "nbformat": 4,
 "nbformat_minor": 2
}
