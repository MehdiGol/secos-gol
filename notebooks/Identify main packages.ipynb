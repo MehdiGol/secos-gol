{
 "cells": [
  {
   "cell_type": "markdown",
   "metadata": {},
   "source": [
    "# Identify main packages in repositories"
   ]
  },
  {
   "cell_type": "code",
   "execution_count": 1,
   "metadata": {},
   "outputs": [],
   "source": [
    "import pandas\n",
    "import matplotlib\n",
    "import seaborn\n",
    "import numpy as np\n",
    "\n",
    "import itertools\n",
    "import sklearn  # Just to check that this library is available now"
   ]
  },
  {
   "cell_type": "code",
   "execution_count": 2,
   "metadata": {},
   "outputs": [],
   "source": [
    "# To easily change figure size\n",
    "FIG_SIZE = (6, 3)"
   ]
  },
  {
   "cell_type": "code",
   "execution_count": 3,
   "metadata": {},
   "outputs": [],
   "source": [
    "%matplotlib inline\n",
    "\n",
    "matplotlib.rcParams['figure.figsize'] = FIG_SIZE\n",
    "matplotlib.rcParams['text.latex.preamble'] = [r'\\usepackage{amsmath}']"
   ]
  },
  {
   "cell_type": "markdown",
   "metadata": {},
   "source": [
    "## Load data"
   ]
  },
  {
   "cell_type": "code",
   "execution_count": 4,
   "metadata": {
    "scrolled": true
   },
   "outputs": [
    {
     "data": {
      "text/html": [
       "<div>\n",
       "<style scoped>\n",
       "    .dataframe tbody tr th:only-of-type {\n",
       "        vertical-align: middle;\n",
       "    }\n",
       "\n",
       "    .dataframe tbody tr th {\n",
       "        vertical-align: top;\n",
       "    }\n",
       "\n",
       "    .dataframe thead th {\n",
       "        text-align: right;\n",
       "    }\n",
       "</style>\n",
       "<table border=\"1\" class=\"dataframe\">\n",
       "  <thead>\n",
       "    <tr style=\"text-align: right;\">\n",
       "      <th></th>\n",
       "      <th>Package</th>\n",
       "      <th>Repository_URL</th>\n",
       "      <th>Repository</th>\n",
       "      <th>versions</th>\n",
       "      <th>first_release_date</th>\n",
       "      <th>dependents</th>\n",
       "    </tr>\n",
       "  </thead>\n",
       "  <tbody>\n",
       "    <tr>\n",
       "      <th>0</th>\n",
       "      <td>advapi32-sys</td>\n",
       "      <td>https://github.com/retep998/winapi-rs</td>\n",
       "      <td>winapi-rs</td>\n",
       "      <td>8</td>\n",
       "      <td>2015-01-19 10:26:00</td>\n",
       "      <td>17</td>\n",
       "    </tr>\n",
       "    <tr>\n",
       "      <th>1</th>\n",
       "      <td>algebloat</td>\n",
       "      <td>https://github.com/SiegeLord/RustAlgebloat</td>\n",
       "      <td>RustAlgebloat</td>\n",
       "      <td>13</td>\n",
       "      <td>2014-12-16 05:26:00</td>\n",
       "      <td>0</td>\n",
       "    </tr>\n",
       "    <tr>\n",
       "      <th>2</th>\n",
       "      <td>algebloat_macros</td>\n",
       "      <td>https://github.com/SiegeLord/RustAlgebloat</td>\n",
       "      <td>RustAlgebloat</td>\n",
       "      <td>13</td>\n",
       "      <td>2014-12-16 05:26:00</td>\n",
       "      <td>1</td>\n",
       "    </tr>\n",
       "    <tr>\n",
       "      <th>3</th>\n",
       "      <td>allegro_acodec</td>\n",
       "      <td>https://github.com/SiegeLord/RustAllegro</td>\n",
       "      <td>RustAllegro</td>\n",
       "      <td>31</td>\n",
       "      <td>2014-12-17 16:38:00</td>\n",
       "      <td>1</td>\n",
       "    </tr>\n",
       "    <tr>\n",
       "      <th>4</th>\n",
       "      <td>allegro_acodec-sys</td>\n",
       "      <td>https://github.com/SiegeLord/RustAllegro</td>\n",
       "      <td>RustAllegro</td>\n",
       "      <td>29</td>\n",
       "      <td>2015-01-04 02:11:00</td>\n",
       "      <td>1</td>\n",
       "    </tr>\n",
       "  </tbody>\n",
       "</table>\n",
       "</div>"
      ],
      "text/plain": [
       "              Package                              Repository_URL  \\\n",
       "0        advapi32-sys       https://github.com/retep998/winapi-rs   \n",
       "1           algebloat  https://github.com/SiegeLord/RustAlgebloat   \n",
       "2    algebloat_macros  https://github.com/SiegeLord/RustAlgebloat   \n",
       "3      allegro_acodec    https://github.com/SiegeLord/RustAllegro   \n",
       "4  allegro_acodec-sys    https://github.com/SiegeLord/RustAllegro   \n",
       "\n",
       "      Repository  versions  first_release_date  dependents  \n",
       "0      winapi-rs         8 2015-01-19 10:26:00          17  \n",
       "1  RustAlgebloat        13 2014-12-16 05:26:00           0  \n",
       "2  RustAlgebloat        13 2014-12-16 05:26:00           1  \n",
       "3    RustAllegro        31 2014-12-17 16:38:00           1  \n",
       "4    RustAllegro        29 2015-01-04 02:11:00           1  "
      ]
     },
     "execution_count": 4,
     "metadata": {},
     "output_type": "execute_result"
    }
   ],
   "source": [
    "df_repo = (\n",
    "    pandas.read_csv('../data/repositories.csv.gz')\n",
    "    .assign(first_release_date=lambda d: pandas.to_datetime(d['first_release_date']))\n",
    ")\n",
    "\n",
    "df_repo.head()"
   ]
  },
  {
   "cell_type": "markdown",
   "metadata": {},
   "source": [
    "All repositories in this dataset have more than one package:"
   ]
  },
  {
   "cell_type": "code",
   "execution_count": 5,
   "metadata": {},
   "outputs": [
    {
     "data": {
      "text/plain": [
       "[Text(0, 0.5, 'number of repositories'),\n",
       " (-0.5, 10),\n",
       " Text(0.5, 0, 'number of packages')]"
      ]
     },
     "execution_count": 5,
     "metadata": {},
     "output_type": "execute_result"
    },
    {
     "data": {
      "image/png": "[encoded data removed]",
      "text/plain": [
       "<Figure size 432x216 with 1 Axes>"
      ]
     },
     "metadata": {
      "needs_background": "light"
     },
     "output_type": "display_data"
    }
   ],
   "source": [
    "fig, ax = matplotlib.pyplot.subplots()\n",
    "\n",
    "seaborn.countplot(\n",
    "    x='Package',\n",
    "    data=(\n",
    "        df_repo\n",
    "        .groupby('Repository_URL')\n",
    "        [['Package']]\n",
    "        .count()\n",
    "    ),\n",
    "    ax=ax\n",
    ")\n",
    "\n",
    "ax.set(\n",
    "    xlabel='number of packages',\n",
    "    xlim=(None, 10),\n",
    "    ylabel='number of repositories',\n",
    ")"
   ]
  },
  {
   "cell_type": "markdown",
   "metadata": {},
   "source": [
    "## Transform data"
   ]
  },
  {
   "cell_type": "markdown",
   "metadata": {},
   "source": [
    "We define several criteria that will be used to identify main packages.\n",
    "Let's first create two additionnal columns that compare the name of the package with the name of the repository."
   ]
  },
  {
   "cell_type": "code",
   "execution_count": 6,
   "metadata": {},
   "outputs": [],
   "source": [
    "def levenshtein(s1, s2):\n",
    "    m=len(s1)+1\n",
    "    n=len(s2)+1\n",
    "\n",
    "    tbl = {}\n",
    "    for i in range(m): tbl[i,0]=i\n",
    "    for j in range(n): tbl[0,j]=j\n",
    "    for i in range(1, m):\n",
    "        for j in range(1, n):\n",
    "            cost = 0 if s1[i-1] == s2[j-1] else 1\n",
    "            tbl[i,j] = min(tbl[i, j-1]+1, tbl[i-1, j]+1, tbl[i-1, j-1]+cost)\n",
    "\n",
    "    return tbl[i,j]"
   ]
  },
  {
   "cell_type": "code",
   "execution_count": 7,
   "metadata": {},
   "outputs": [],
   "source": [
    "from similarity.normalized_levenshtein import NormalizedLevenshtein\n",
    "normalized_levenshtein = NormalizedLevenshtein()"
   ]
  },
  {
   "cell_type": "code",
   "execution_count": 8,
   "metadata": {},
   "outputs": [
    {
     "name": "stdout",
     "output_type": "stream",
     "text": [
      "serde07 , \t legacy -> Levenshtein : 6 \t Nlevenshtein : 0.1428571428571429\n",
      "serde06 , \t legacy -> Levenshtein : 6 \t Nlevenshtein : 0.1428571428571429\n",
      "serde08 , \t legacy -> Levenshtein : 6 \t Nlevenshtein : 0.1428571428571429\n",
      "serde1 , \t legacy -> Levenshtein : 5 \t Nlevenshtein : 0.16666666666666663\n",
      "serde09 , \t legacy -> Levenshtein : 6 \t Nlevenshtein : 0.1428571428571429\n",
      "legacy-serde , \t legacy -> Levenshtein : 6 \t Nlevenshtein : 0.5\n"
     ]
    }
   ],
   "source": [
    "for item in df_repo[lambda x: x['Repository'] == 'legacy'].Package:\n",
    "    print(item + ' , \\t legacy -> Levenshtein : ' + str(levenshtein(item,'legacy')) +  \" \\t Nlevenshtein : \" + str(normalized_levenshtein.similarity(item,'legacy')))"
   ]
  },
  {
   "cell_type": "code",
   "execution_count": 9,
   "metadata": {},
   "outputs": [
    {
     "data": {
      "text/html": [
       "<div>\n",
       "<style scoped>\n",
       "    .dataframe tbody tr th:only-of-type {\n",
       "        vertical-align: middle;\n",
       "    }\n",
       "\n",
       "    .dataframe tbody tr th {\n",
       "        vertical-align: top;\n",
       "    }\n",
       "\n",
       "    .dataframe thead th {\n",
       "        text-align: right;\n",
       "    }\n",
       "</style>\n",
       "<table border=\"1\" class=\"dataframe\">\n",
       "  <thead>\n",
       "    <tr style=\"text-align: right;\">\n",
       "      <th></th>\n",
       "      <th>Package</th>\n",
       "      <th>Repository_URL</th>\n",
       "      <th>Repository</th>\n",
       "      <th>versions</th>\n",
       "      <th>first_release_date</th>\n",
       "      <th>dependents</th>\n",
       "      <th>name_match</th>\n",
       "    </tr>\n",
       "  </thead>\n",
       "  <tbody>\n",
       "    <tr>\n",
       "      <th>2647</th>\n",
       "      <td>serde07</td>\n",
       "      <td>https://github.com/serde-rs/legacy</td>\n",
       "      <td>legacy</td>\n",
       "      <td>1</td>\n",
       "      <td>0.000000</td>\n",
       "      <td>0</td>\n",
       "      <td>0.142857</td>\n",
       "    </tr>\n",
       "    <tr>\n",
       "      <th>2648</th>\n",
       "      <td>serde06</td>\n",
       "      <td>https://github.com/serde-rs/legacy</td>\n",
       "      <td>legacy</td>\n",
       "      <td>1</td>\n",
       "      <td>0.000000</td>\n",
       "      <td>0</td>\n",
       "      <td>0.142857</td>\n",
       "    </tr>\n",
       "    <tr>\n",
       "      <th>2649</th>\n",
       "      <td>serde08</td>\n",
       "      <td>https://github.com/serde-rs/legacy</td>\n",
       "      <td>legacy</td>\n",
       "      <td>1</td>\n",
       "      <td>0.000000</td>\n",
       "      <td>0</td>\n",
       "      <td>0.142857</td>\n",
       "    </tr>\n",
       "    <tr>\n",
       "      <th>2650</th>\n",
       "      <td>serde1</td>\n",
       "      <td>https://github.com/serde-rs/legacy</td>\n",
       "      <td>legacy</td>\n",
       "      <td>1</td>\n",
       "      <td>0.000694</td>\n",
       "      <td>0</td>\n",
       "      <td>0.166667</td>\n",
       "    </tr>\n",
       "    <tr>\n",
       "      <th>2651</th>\n",
       "      <td>serde09</td>\n",
       "      <td>https://github.com/serde-rs/legacy</td>\n",
       "      <td>legacy</td>\n",
       "      <td>1</td>\n",
       "      <td>0.000694</td>\n",
       "      <td>0</td>\n",
       "      <td>0.142857</td>\n",
       "    </tr>\n",
       "    <tr>\n",
       "      <th>2652</th>\n",
       "      <td>legacy-serde</td>\n",
       "      <td>https://github.com/serde-rs/legacy</td>\n",
       "      <td>legacy</td>\n",
       "      <td>4</td>\n",
       "      <td>0.001389</td>\n",
       "      <td>0</td>\n",
       "      <td>0.500000</td>\n",
       "    </tr>\n",
       "  </tbody>\n",
       "</table>\n",
       "</div>"
      ],
      "text/plain": [
       "           Package                      Repository_URL Repository  versions  \\\n",
       "2647       serde07  https://github.com/serde-rs/legacy     legacy         1   \n",
       "2648       serde06  https://github.com/serde-rs/legacy     legacy         1   \n",
       "2649       serde08  https://github.com/serde-rs/legacy     legacy         1   \n",
       "2650        serde1  https://github.com/serde-rs/legacy     legacy         1   \n",
       "2651       serde09  https://github.com/serde-rs/legacy     legacy         1   \n",
       "2652  legacy-serde  https://github.com/serde-rs/legacy     legacy         4   \n",
       "\n",
       "      first_release_date  dependents  name_match  \n",
       "2647            0.000000           0    0.142857  \n",
       "2648            0.000000           0    0.142857  \n",
       "2649            0.000000           0    0.142857  \n",
       "2650            0.000694           0    0.166667  \n",
       "2651            0.000694           0    0.142857  \n",
       "2652            0.001389           0    0.500000  "
      ]
     },
     "execution_count": 9,
     "metadata": {},
     "output_type": "execute_result"
    }
   ],
   "source": [
    "df_crit = (\n",
    "    df_repo\n",
    "    # Here we calculate levenshtein distance of package name and repository name\n",
    "    .assign(name_match=lambda d: \n",
    "            (d.apply(lambda s: normalized_levenshtein.similarity(s['Package'].lower() , s['Repository'].lower()), axis=1))\n",
    "    )\n",
    "    # Compute age till 2019\n",
    "    .assign(first_release_date=lambda d: \n",
    "            (d.apply(lambda s: pandas.Timedelta(pandas.to_datetime('2019-01-01 00:00:00') - s['first_release_date']).total_seconds()/86400 , axis=1))\n",
    "    )\n",
    "    # Compute day differece between this version and last version\n",
    "    .groupby('Repository_URL', sort=False)\n",
    "    .apply(lambda group:\n",
    "        group.assign(\n",
    "            first_release_date=lambda d: (d['first_release_date'].max()-d['first_release_date']),\n",
    "        )\n",
    "    )\n",
    "    .reset_index(drop=True)\n",
    ")\n",
    "\n",
    "df_crit[lambda x:x['Repository_URL'] == 'https://github.com/serde-rs/legacy']"
   ]
  },
  {
   "cell_type": "markdown",
   "metadata": {},
   "source": [
    "We define several criteria, and we compute their value: a package that is \"first\" (even with draws) for a criterion will be selected as a \"main package\" according to that criterion."
   ]
  },
  {
   "cell_type": "code",
   "execution_count": 10,
   "metadata": {},
   "outputs": [],
   "source": [
    "criteria = ['closer_name', 'most_versions', 'first_released', 'most_dependents']"
   ]
  },
  {
   "cell_type": "code",
   "execution_count": 11,
   "metadata": {},
   "outputs": [],
   "source": [
    "df_crit = (\n",
    "    df_crit\n",
    "    .groupby('Repository_URL', sort=False)\n",
    "    .apply(lambda group:\n",
    "        group.assign(\n",
    "            \n",
    "            most_versions=lambda d: (d['versions']/d['versions'].max()),\n",
    "            # To handle cases which all packages have 0 distance from Last version in a repository (d['first_release_date'].max() == 0) I used np.where \n",
    "            first_released=lambda d: (1- np.where(d['first_release_date'].max() != 0, (d['first_release_date']/d['first_release_date'].max()),0)),\n",
    "            # To handle cases which all packages have with 0 dependent package in a repository (d['dependents'].max() == 0) I used np.where\n",
    "            most_dependents=lambda d: np.where(d['dependents'].max() != 0 , (d['dependents']/d['dependents'].max()),0),\n",
    "            closer_name= lambda d: np.where( d['name_match'].max() != 0, (d['name_match']/d['name_match'].max()),0),\n",
    "        )\n",
    "    )\n",
    "    .reset_index(drop=True)\n",
    "    [['Package', 'Repository_URL'] + criteria]\n",
    ")"
   ]
  },
  {
   "cell_type": "markdown",
   "metadata": {},
   "source": [
    "We now rely on those criterion to identify main packages (they are not necessarily unique) for each repository."
   ]
  },
  {
   "cell_type": "code",
   "execution_count": 12,
   "metadata": {},
   "outputs": [],
   "source": [
    "df_crit = (\n",
    "    df_crit\n",
    "    .assign(criteria=lambda d: d[criteria].sum(axis=1))\n",
    "    .groupby('Repository_URL', sort=False)\n",
    "    .apply(lambda group: \n",
    "        group.assign(\n",
    "            main=lambda d: (d['criteria'].rank(method='min', ascending=False) == 1),\n",
    "        )\n",
    "    )\n",
    "    .reset_index(drop=True)\n",
    ")"
   ]
  },
  {
   "cell_type": "code",
   "execution_count": 13,
   "metadata": {
    "scrolled": false
   },
   "outputs": [
    {
     "data": {
      "text/html": [
       "<div>\n",
       "<style scoped>\n",
       "    .dataframe tbody tr th:only-of-type {\n",
       "        vertical-align: middle;\n",
       "    }\n",
       "\n",
       "    .dataframe tbody tr th {\n",
       "        vertical-align: top;\n",
       "    }\n",
       "\n",
       "    .dataframe thead th {\n",
       "        text-align: right;\n",
       "    }\n",
       "</style>\n",
       "<table border=\"1\" class=\"dataframe\">\n",
       "  <thead>\n",
       "    <tr style=\"text-align: right;\">\n",
       "      <th></th>\n",
       "      <th>Package</th>\n",
       "      <th>Repository_URL</th>\n",
       "      <th>closer_name</th>\n",
       "      <th>most_versions</th>\n",
       "      <th>first_released</th>\n",
       "      <th>most_dependents</th>\n",
       "      <th>criteria</th>\n",
       "      <th>main</th>\n",
       "    </tr>\n",
       "  </thead>\n",
       "  <tbody>\n",
       "    <tr>\n",
       "      <th>469</th>\n",
       "      <td>cssparser-macros</td>\n",
       "      <td>https://github.com/servo/rust-cssparser</td>\n",
       "      <td>0.388889</td>\n",
       "      <td>0.058824</td>\n",
       "      <td>0.002741</td>\n",
       "      <td>0.142857</td>\n",
       "      <td>0.593310</td>\n",
       "      <td>False</td>\n",
       "    </tr>\n",
       "    <tr>\n",
       "      <th>2391</th>\n",
       "      <td>rocket</td>\n",
       "      <td>https://github.com/SergioBenitez/Rocket</td>\n",
       "      <td>1.000000</td>\n",
       "      <td>1.000000</td>\n",
       "      <td>1.000000</td>\n",
       "      <td>1.000000</td>\n",
       "      <td>4.000000</td>\n",
       "      <td>True</td>\n",
       "    </tr>\n",
       "    <tr>\n",
       "      <th>1523</th>\n",
       "      <td>tweetnacl-sys</td>\n",
       "      <td>https://github.com/jmesmon/sodalite</td>\n",
       "      <td>0.153846</td>\n",
       "      <td>0.266667</td>\n",
       "      <td>0.128098</td>\n",
       "      <td>1.000000</td>\n",
       "      <td>1.548611</td>\n",
       "      <td>False</td>\n",
       "    </tr>\n",
       "    <tr>\n",
       "      <th>2846</th>\n",
       "      <td>hyper-zipkin</td>\n",
       "      <td>https://github.com/palantir/rust-zipkin</td>\n",
       "      <td>1.000000</td>\n",
       "      <td>0.363636</td>\n",
       "      <td>0.999988</td>\n",
       "      <td>0.000000</td>\n",
       "      <td>2.363624</td>\n",
       "      <td>False</td>\n",
       "    </tr>\n",
       "    <tr>\n",
       "      <th>2669</th>\n",
       "      <td>enum-kinds-traits</td>\n",
       "      <td>https://bitbucket.org/Soft/enum-kinds</td>\n",
       "      <td>0.588235</td>\n",
       "      <td>0.750000</td>\n",
       "      <td>1.000000</td>\n",
       "      <td>0.000000</td>\n",
       "      <td>2.338235</td>\n",
       "      <td>False</td>\n",
       "    </tr>\n",
       "  </tbody>\n",
       "</table>\n",
       "</div>"
      ],
      "text/plain": [
       "                Package                           Repository_URL  closer_name  \\\n",
       "469    cssparser-macros  https://github.com/servo/rust-cssparser     0.388889   \n",
       "2391             rocket  https://github.com/SergioBenitez/Rocket     1.000000   \n",
       "1523      tweetnacl-sys      https://github.com/jmesmon/sodalite     0.153846   \n",
       "2846       hyper-zipkin  https://github.com/palantir/rust-zipkin     1.000000   \n",
       "2669  enum-kinds-traits    https://bitbucket.org/Soft/enum-kinds     0.588235   \n",
       "\n",
       "      most_versions  first_released  most_dependents  criteria   main  \n",
       "469        0.058824        0.002741         0.142857  0.593310  False  \n",
       "2391       1.000000        1.000000         1.000000  4.000000   True  \n",
       "1523       0.266667        0.128098         1.000000  1.548611  False  \n",
       "2846       0.363636        0.999988         0.000000  2.363624  False  \n",
       "2669       0.750000        1.000000         0.000000  2.338235  False  "
      ]
     },
     "execution_count": 13,
     "metadata": {},
     "output_type": "execute_result"
    }
   ],
   "source": [
    "# This random_state incidentaly selects interesting examples\n",
    "df_crit.sample(5, random_state=12345)"
   ]
  },
  {
   "cell_type": "markdown",
   "metadata": {},
   "source": [
    "## Main packages are not unique"
   ]
  },
  {
   "cell_type": "markdown",
   "metadata": {},
   "source": [
    "Main packages are not unique. Because a package is tagged as \"main\" if it has the highest score, we could have draws. \n",
    "We look at how many repositories have more than one \"main\" package."
   ]
  },
  {
   "cell_type": "code",
   "execution_count": 14,
   "metadata": {},
   "outputs": [
    {
     "data": {
      "text/plain": [
       "[Text(0, 0.5, 'number of repositories'),\n",
       " Text(0.5, 0, 'number of main packages')]"
      ]
     },
     "execution_count": 14,
     "metadata": {},
     "output_type": "execute_result"
    },
    {
     "data": {
      "image/png": "[encoded data removed]",
      "text/plain": [
       "<Figure size 432x216 with 1 Axes>"
      ]
     },
     "metadata": {
      "needs_background": "light"
     },
     "output_type": "display_data"
    }
   ],
   "source": [
    "fig, ax = matplotlib.pyplot.subplots()\n",
    "\n",
    "seaborn.countplot(\n",
    "    x='Package',\n",
    "    data=(\n",
    "        df_crit\n",
    "        .query('main')\n",
    "        .groupby('Repository_URL', sort=False)\n",
    "        [['Package']]\n",
    "        .count()\n",
    "    ), \n",
    "    ax=ax,\n",
    ")\n",
    "\n",
    "ax.set(\n",
    "    xlabel='number of main packages',\n",
    "    ylabel='number of repositories',\n",
    "    #yscale='log',\n",
    ")"
   ]
  },
  {
   "cell_type": "code",
   "execution_count": 15,
   "metadata": {},
   "outputs": [
    {
     "data": {
      "text/html": [
       "<div>\n",
       "<style scoped>\n",
       "    .dataframe tbody tr th:only-of-type {\n",
       "        vertical-align: middle;\n",
       "    }\n",
       "\n",
       "    .dataframe tbody tr th {\n",
       "        vertical-align: top;\n",
       "    }\n",
       "\n",
       "    .dataframe thead th {\n",
       "        text-align: right;\n",
       "    }\n",
       "</style>\n",
       "<table border=\"1\" class=\"dataframe\">\n",
       "  <thead>\n",
       "    <tr style=\"text-align: right;\">\n",
       "      <th></th>\n",
       "      <th>closer_name</th>\n",
       "      <th>most_versions</th>\n",
       "      <th>first_released</th>\n",
       "      <th>most_dependents</th>\n",
       "      <th>criteria</th>\n",
       "      <th>main</th>\n",
       "    </tr>\n",
       "    <tr>\n",
       "      <th>Repository_URL</th>\n",
       "      <th></th>\n",
       "      <th></th>\n",
       "      <th></th>\n",
       "      <th></th>\n",
       "      <th></th>\n",
       "      <th></th>\n",
       "    </tr>\n",
       "  </thead>\n",
       "  <tbody>\n",
       "    <tr>\n",
       "      <th>https://github.com/ipgen/cli</th>\n",
       "      <td>1.000000</td>\n",
       "      <td>2.000000</td>\n",
       "      <td>1.0</td>\n",
       "      <td>0.0</td>\n",
       "      <td>4.000000</td>\n",
       "      <td>2.0</td>\n",
       "    </tr>\n",
       "    <tr>\n",
       "      <th>https://github.com/bluetech/pcsc-rust</th>\n",
       "      <td>1.666667</td>\n",
       "      <td>1.666667</td>\n",
       "      <td>1.0</td>\n",
       "      <td>1.0</td>\n",
       "      <td>5.333333</td>\n",
       "      <td>2.0</td>\n",
       "    </tr>\n",
       "    <tr>\n",
       "      <th>https://github.com/RustCrypto/asm-hashes</th>\n",
       "      <td>2.000000</td>\n",
       "      <td>2.000000</td>\n",
       "      <td>2.0</td>\n",
       "      <td>1.0</td>\n",
       "      <td>7.000000</td>\n",
       "      <td>2.0</td>\n",
       "    </tr>\n",
       "    <tr>\n",
       "      <th>https://github.com/Xudong-Huang/may</th>\n",
       "      <td>1.333333</td>\n",
       "      <td>1.666667</td>\n",
       "      <td>1.0</td>\n",
       "      <td>2.0</td>\n",
       "      <td>6.000000</td>\n",
       "      <td>2.0</td>\n",
       "    </tr>\n",
       "    <tr>\n",
       "      <th>https://github.com/sfackler/rstack</th>\n",
       "      <td>0.000000</td>\n",
       "      <td>2.000000</td>\n",
       "      <td>2.0</td>\n",
       "      <td>2.0</td>\n",
       "      <td>6.000000</td>\n",
       "      <td>2.0</td>\n",
       "    </tr>\n",
       "  </tbody>\n",
       "</table>\n",
       "</div>"
      ],
      "text/plain": [
       "                                          closer_name  most_versions  \\\n",
       "Repository_URL                                                         \n",
       "https://github.com/ipgen/cli                 1.000000       2.000000   \n",
       "https://github.com/bluetech/pcsc-rust        1.666667       1.666667   \n",
       "https://github.com/RustCrypto/asm-hashes     2.000000       2.000000   \n",
       "https://github.com/Xudong-Huang/may          1.333333       1.666667   \n",
       "https://github.com/sfackler/rstack           0.000000       2.000000   \n",
       "\n",
       "                                          first_released  most_dependents  \\\n",
       "Repository_URL                                                              \n",
       "https://github.com/ipgen/cli                         1.0              0.0   \n",
       "https://github.com/bluetech/pcsc-rust                1.0              1.0   \n",
       "https://github.com/RustCrypto/asm-hashes             2.0              1.0   \n",
       "https://github.com/Xudong-Huang/may                  1.0              2.0   \n",
       "https://github.com/sfackler/rstack                   2.0              2.0   \n",
       "\n",
       "                                          criteria  main  \n",
       "Repository_URL                                            \n",
       "https://github.com/ipgen/cli              4.000000   2.0  \n",
       "https://github.com/bluetech/pcsc-rust     5.333333   2.0  \n",
       "https://github.com/RustCrypto/asm-hashes  7.000000   2.0  \n",
       "https://github.com/Xudong-Huang/may       6.000000   2.0  \n",
       "https://github.com/sfackler/rstack        6.000000   2.0  "
      ]
     },
     "execution_count": 15,
     "metadata": {},
     "output_type": "execute_result"
    }
   ],
   "source": [
    "# To see repository with more than 1 main package\n",
    "(\n",
    "    df_crit\n",
    "    .query('main')\n",
    "    .groupby('Repository_URL', sort=False)\n",
    "    .sum()\n",
    "    [lambda d: d['main']>1]\n",
    ")"
   ]
  },
  {
   "cell_type": "markdown",
   "metadata": {},
   "source": [
    "One of the reason why repositories can have more than one package is because the \"score\" of these packages could be quite low, leading to more \"draws\". Let's check this hypothesis."
   ]
  },
  {
   "cell_type": "markdown",
   "metadata": {},
   "source": [
    "Let's now check what is the score in case of \"draws\". "
   ]
  },
  {
   "cell_type": "code",
   "execution_count": 17,
   "metadata": {},
   "outputs": [
    {
     "data": {
      "text/plain": [
       "[Text(0, 0.5, 'number of repositories'),\n",
       " Text(0.5, 0, '\"score\" of of main packages')]"
      ]
     },
     "execution_count": 17,
     "metadata": {},
     "output_type": "execute_result"
    },
    {
     "data": {
      "image/png": "[encoded data removed]",
      "text/plain": [
       "<Figure size 432x216 with 1 Axes>"
      ]
     },
     "metadata": {
      "needs_background": "light"
     },
     "output_type": "display_data"
    }
   ],
   "source": [
    "fig, ax = matplotlib.pyplot.subplots()\n",
    "\n",
    "seaborn.countplot(\n",
    "    x='criteria',\n",
    "    data=(\n",
    "        df_crit\n",
    "        .groupby('Repository_URL', sort=False)\n",
    "        .apply(lambda group:\n",
    "            group.assign(\n",
    "                closer_name=lambda d: (d['closer_name'].rank(method='min', ascending=False) == 1),\n",
    "                most_versions=lambda d: (d['most_versions'].rank(method='min', ascending=False) == 1),\n",
    "                first_released=lambda d: (d['first_released'].rank(method='min', ascending=False) == 1),\n",
    "                most_dependents=lambda d: (d['most_dependents'].rank(method='min', ascending=False) == 1),\n",
    "            )\n",
    "        )\n",
    "        .reset_index(drop=True)\n",
    "        .assign(criteria=lambda d: d[criteria].sum(axis=1))\n",
    "        .query('main')\n",
    "        .drop_duplicates(['Repository_URL', 'criteria'])\n",
    "    ), \n",
    "    ax=ax,\n",
    ")\n",
    "\n",
    "ax.set(\n",
    "    xlabel='\"score\" of of main packages',\n",
    "    ylabel='number of repositories',\n",
    "    #yscale='log',\n",
    ")"
   ]
  },
  {
   "cell_type": "code",
   "execution_count": 18,
   "metadata": {},
   "outputs": [
    {
     "data": {
      "text/plain": [
       "<matplotlib.legend.Legend at 0x233a5e23ef0>"
      ]
     },
     "execution_count": 18,
     "metadata": {},
     "output_type": "execute_result"
    },
    {
     "data": {
      "image/png": "[encoded data removed]",
      "text/plain": [
       "<Figure size 432x216 with 1 Axes>"
      ]
     },
     "metadata": {
      "needs_background": "light"
     },
     "output_type": "display_data"
    }
   ],
   "source": [
    "fig, ax = matplotlib.pyplot.subplots()\n",
    "\n",
    "seaborn.scatterplot(\n",
    "    x='criteria',\n",
    "    y='Package', \n",
    "    size='number',\n",
    "    hue='number',\n",
    "    data=(\n",
    "        df_crit\n",
    "        .groupby('Repository_URL', sort=False)\n",
    "        .apply(lambda group:\n",
    "            group.assign(\n",
    "                closer_name=lambda d: (d['closer_name'].rank(method='min', ascending=False) == 1),\n",
    "                most_versions=lambda d: (d['most_versions'].rank(method='min', ascending=False) == 1),\n",
    "                first_released=lambda d: (d['first_released'].rank(method='min', ascending=False) == 1),\n",
    "                most_dependents=lambda d: (d['most_dependents'].rank(method='min', ascending=False) == 1),\n",
    "            )\n",
    "        )\n",
    "        .reset_index(drop=True)\n",
    "        .assign(criteria=lambda d: d[criteria].sum(axis=1))\n",
    "        .query('main')\n",
    "        .groupby('Repository_URL', sort=False)\n",
    "        .agg({'Package': 'count', 'criteria': 'max'})\n",
    "        .assign(number=1)\n",
    "        .groupby(['Package', 'criteria'], sort=False)\n",
    "        .agg({'Package': 'first', 'criteria': 'first', 'number': 'count'})\n",
    "        .reset_index(drop=True)\n",
    "    ),\n",
    "    ax=ax,\n",
    ")\n",
    "\n",
    "ax.set(\n",
    "    xlabel='\"score\" of main packages',\n",
    "    xlim=(1, 6),\n",
    "    ylabel='number of packages with that score',\n",
    "    ylim=(0, 6),\n",
    ")\n",
    "\n",
    "ax.legend(title='repositories')"
   ]
  },
  {
   "cell_type": "markdown",
   "metadata": {},
   "source": [
    "This suggests that most \"non-draws\" have a score of 3 to 5, while most draws have a score of 2 or 3. "
   ]
  },
  {
   "cell_type": "markdown",
   "metadata": {},
   "source": [
    "## Criteria agreement"
   ]
  },
  {
   "cell_type": "markdown",
   "metadata": {},
   "source": [
    "How many times each criterion leads to the same \"answer\" than \"main\"?"
   ]
  },
  {
   "cell_type": "code",
   "execution_count": 19,
   "metadata": {},
   "outputs": [
    {
     "data": {
      "text/plain": [
       "closer_name        0.184416\n",
       "most_versions      0.195671\n",
       "first_released     0.447330\n",
       "most_dependents    0.612698\n",
       "dtype: float64"
      ]
     },
     "execution_count": 19,
     "metadata": {},
     "output_type": "execute_result"
    }
   ],
   "source": [
    "(\n",
    "    df_crit\n",
    "    .assign(**{\n",
    "        # Use a double lambda to fix \"c\" in the closure of inner lambda\n",
    "        c: (lambda c: (lambda d: d[c] == d['main']))(c) for c in criteria\n",
    "    })\n",
    "    [criteria]\n",
    "    .pipe(lambda d: d.sum() / len(d))\n",
    ")"
   ]
  },
  {
   "cell_type": "markdown",
   "metadata": {},
   "source": [
    "Obviously, not all cases are of interest. For instance, we would like to favour criteria that can be used to identify main packages, not criteria that can be used to identify non-main packages. We therefore compute the confusion matrix for each criterion."
   ]
  },
  {
   "cell_type": "code",
   "execution_count": 20,
   "metadata": {},
   "outputs": [],
   "source": [
    "# We do that in a loop because it's easier to write and we don't have that many data, so we can skip pandas' features this time ;-)\n",
    "matrices = {\n",
    "    c: dict(TP=0, FP=0, TN=0, FN=0)\n",
    "    for c in criteria\n",
    "}\n",
    "\n",
    "for row in df_crit.itertuples():\n",
    "    for criterion in criteria:\n",
    "        if getattr(row, 'main'):\n",
    "            if getattr(row, criterion):\n",
    "                matrices[criterion]['TP'] += 1\n",
    "            else:\n",
    "                matrices[criterion]['FN'] += 1\n",
    "        else:\n",
    "            if getattr(row, criterion):\n",
    "                matrices[criterion]['FP'] += 1\n",
    "            else:\n",
    "                matrices[criterion]['TN'] += 1"
   ]
  },
  {
   "cell_type": "code",
   "execution_count": 21,
   "metadata": {},
   "outputs": [
    {
     "data": {
      "text/plain": [
       "<matplotlib.axes._subplots.AxesSubplot at 0x233a7660c50>"
      ]
     },
     "execution_count": 21,
     "metadata": {},
     "output_type": "execute_result"
    },
    {
     "data": {
      "image/png": "[encoded data removed]",
      "text/plain": [
       "<Figure size 432x216 with 2 Axes>"
      ]
     },
     "metadata": {
      "needs_background": "light"
     },
     "output_type": "display_data"
    }
   ],
   "source": [
    "fig, ax = matplotlib.pyplot.subplots()\n",
    "\n",
    "seaborn.heatmap(\n",
    "    data=pandas.DataFrame(matrices).T / len(df_crit),\n",
    "    vmin=0, \n",
    "    vmax=1,\n",
    "    annot=True,\n",
    "    ax=ax\n",
    ")\n"
   ]
  },
  {
   "cell_type": "markdown",
   "metadata": {},
   "source": [
    "As this plot is not very useful, let's compute precision and recall for each criterion.\n",
    "We also compute other metrics \"just in case\". \n",
    "Notice that \"accuracy\" is not very reliable here, because the classes are imbalanced."
   ]
  },
  {
   "cell_type": "code",
   "execution_count": 22,
   "metadata": {},
   "outputs": [
    {
     "data": {
      "text/plain": [
       "<matplotlib.axes._subplots.AxesSubplot at 0x233a749a5c0>"
      ]
     },
     "execution_count": 22,
     "metadata": {},
     "output_type": "execute_result"
    },
    {
     "data": {
      "image/png": "[encoded data removed]",
      "text/plain": [
       "<Figure size 432x216 with 2 Axes>"
      ]
     },
     "metadata": {
      "needs_background": "light"
     },
     "output_type": "display_data"
    }
   ],
   "source": [
    "fig, ax = matplotlib.pyplot.subplots()\n",
    "\n",
    "seaborn.heatmap(\n",
    "    data=(\n",
    "        pandas.DataFrame(matrices)\n",
    "        .T\n",
    "        # Using eval to make it more readable and to we avoid the use of, e.g., d['TP'] + (d['TP'] + d['FP'])\n",
    "        .eval('precision = TP / (TP + FP)')\n",
    "        .eval('recall = TP / (TP + FN)')\n",
    "        .eval('accuracy = (TP + TN) / (TP + TN + FP + FN)')\n",
    "        .eval('F1 = 2 * TP / (2 * TP + FP + FN)')\n",
    "        [['precision', 'recall', 'accuracy', 'F1']]\n",
    "    ),\n",
    "    vmin=0, \n",
    "    vmax=1,\n",
    "    annot=True,\n",
    "    ax=ax\n",
    ")"
   ]
  },
  {
   "cell_type": "markdown",
   "metadata": {},
   "source": [
    "## Combinations of criteria"
   ]
  },
  {
   "cell_type": "markdown",
   "metadata": {},
   "source": [
    "We look for combinations of criteria that could improve these scores. \n",
    "\n",
    "At first, we see pairwise correlations between them, to get a better idea of the possible redundancy."
   ]
  },
  {
   "cell_type": "code",
   "execution_count": 23,
   "metadata": {},
   "outputs": [
    {
     "data": {
      "text/plain": [
       "<matplotlib.axes._subplots.AxesSubplot at 0x233a7728c88>"
      ]
     },
     "execution_count": 23,
     "metadata": {},
     "output_type": "execute_result"
    },
    {
     "data": {
      "image/png": "[encoded data removed]",
      "text/plain": [
       "<Figure size 432x216 with 2 Axes>"
      ]
     },
     "metadata": {
      "needs_background": "light"
     },
     "output_type": "display_data"
    }
   ],
   "source": [
    "fig, ax = matplotlib.pyplot.subplots()\n",
    "\n",
    "seaborn.heatmap(\n",
    "    data=(\n",
    "        df_crit\n",
    "        [criteria + ['main']]\n",
    "        .corr()\n",
    "    ),\n",
    "    vmin=0, \n",
    "    vmax=1,\n",
    "    annot=True,\n",
    "    ax=ax,\n",
    ")"
   ]
  },
  {
   "cell_type": "markdown",
   "metadata": {},
   "source": [
    "Let's create some decision trees to see what could be the set of useful criteria. We should be careful because classes are imbalanced! "
   ]
  },
  {
   "cell_type": "code",
   "execution_count": 24,
   "metadata": {},
   "outputs": [
    {
     "data": {
      "text/plain": [
       "False    2592\n",
       "True      873\n",
       "Name: main, dtype: int64"
      ]
     },
     "execution_count": 24,
     "metadata": {},
     "output_type": "execute_result"
    }
   ],
   "source": [
    "df_crit['main'].value_counts()"
   ]
  },
  {
   "cell_type": "markdown",
   "metadata": {},
   "source": [
    "Let's balance classes:"
   ]
  },
  {
   "cell_type": "code",
   "execution_count": 25,
   "metadata": {},
   "outputs": [
    {
     "data": {
      "text/plain": [
       "True     2592\n",
       "False    2592\n",
       "Name: main, dtype: int64"
      ]
     },
     "execution_count": 25,
     "metadata": {},
     "output_type": "execute_result"
    }
   ],
   "source": [
    "from sklearn.utils import resample\n",
    "\n",
    "df_balanced = pandas.concat([\n",
    "    # First the \"non-main packages\" (majority)\n",
    "    # Here query() is more readable than df_crit[~df_crit['main']]\n",
    "    # or even than df_crit[lambda d: ~d['main']]\n",
    "    df_crit.query('not main'),\n",
    "    \n",
    "    # Then we augment the minority class\n",
    "    resample(\n",
    "        df_crit.query('main'), \n",
    "        replace=True, \n",
    "        n_samples=len(df_crit.query('not main')),\n",
    "        random_state=12345,\n",
    "    )\n",
    "])\n",
    "\n",
    "df_balanced['main'].value_counts()"
   ]
  },
  {
   "cell_type": "markdown",
   "metadata": {},
   "source": [
    "To avoid our models to overfit the data, we rely on a split validation. We avoid k-fold cross-validation at this point of the analysis because (1) it leads to k models, making the overall model more difficult to interpret and (2) it requires aggregating scores which could hide some interesting things at this point. The k-fold cross-validation will be performed later."
   ]
  },
  {
   "cell_type": "code",
   "execution_count": 26,
   "metadata": {},
   "outputs": [],
   "source": [
    "from sklearn.model_selection import train_test_split\n",
    "\n",
    "x_train, x_test, y_train, y_test = train_test_split(\n",
    "    df_balanced[criteria], \n",
    "    df_balanced['main'], \n",
    "    test_size=0.5, \n",
    "    random_state=12345  # For reproductibility purpose\n",
    ")"
   ]
  },
  {
   "cell_type": "code",
   "execution_count": 27,
   "metadata": {},
   "outputs": [],
   "source": [
    "from sklearn.tree import DecisionTreeClassifier\n",
    "from sklearn.metrics import recall_score, precision_score, accuracy_score, f1_score\n",
    "\n",
    "scores = {\n",
    "    'recall': recall_score,\n",
    "    'precision': precision_score,\n",
    "    'accuracy': accuracy_score,\n",
    "    'f1_score': f1_score,\n",
    "}"
   ]
  },
  {
   "cell_type": "markdown",
   "metadata": {},
   "source": [
    "We create a first tree based on all critera, just to have an idea on \"how good\" (or \"how bad\") it is."
   ]
  },
  {
   "cell_type": "code",
   "execution_count": 28,
   "metadata": {},
   "outputs": [
    {
     "name": "stdout",
     "output_type": "stream",
     "text": [
      "recall 0.9734582357533177\n",
      "precision 0.943267776096823\n",
      "accuracy 0.9579475308641975\n",
      "f1_score 0.9581252401075683\n"
     ]
    }
   ],
   "source": [
    "tree = DecisionTreeClassifier()\n",
    "tree.fit(x_train, y_train)\n",
    "\n",
    "y_pred = tree.predict(x_test)\n",
    "\n",
    "for label, fun in scores.items():\n",
    "    score = fun(y_test, y_pred)\n",
    "    print(label, score)"
   ]
  },
  {
   "cell_type": "markdown",
   "metadata": {},
   "source": [
    "Let's have a look at the features:"
   ]
  },
  {
   "cell_type": "code",
   "execution_count": 29,
   "metadata": {},
   "outputs": [
    {
     "data": {
      "text/html": [
       "<div>\n",
       "<style scoped>\n",
       "    .dataframe tbody tr th:only-of-type {\n",
       "        vertical-align: middle;\n",
       "    }\n",
       "\n",
       "    .dataframe tbody tr th {\n",
       "        vertical-align: top;\n",
       "    }\n",
       "\n",
       "    .dataframe thead th {\n",
       "        text-align: right;\n",
       "    }\n",
       "</style>\n",
       "<table border=\"1\" class=\"dataframe\">\n",
       "  <thead>\n",
       "    <tr style=\"text-align: right;\">\n",
       "      <th></th>\n",
       "      <th>0</th>\n",
       "    </tr>\n",
       "  </thead>\n",
       "  <tbody>\n",
       "    <tr>\n",
       "      <th>closer_name</th>\n",
       "      <td>0.092411</td>\n",
       "    </tr>\n",
       "    <tr>\n",
       "      <th>most_versions</th>\n",
       "      <td>0.064410</td>\n",
       "    </tr>\n",
       "    <tr>\n",
       "      <th>first_released</th>\n",
       "      <td>0.698260</td>\n",
       "    </tr>\n",
       "    <tr>\n",
       "      <th>most_dependents</th>\n",
       "      <td>0.144919</td>\n",
       "    </tr>\n",
       "  </tbody>\n",
       "</table>\n",
       "</div>"
      ],
      "text/plain": [
       "                        0\n",
       "closer_name      0.092411\n",
       "most_versions    0.064410\n",
       "first_released   0.698260\n",
       "most_dependents  0.144919"
      ]
     },
     "execution_count": 29,
     "metadata": {},
     "output_type": "execute_result"
    }
   ],
   "source": [
    "pandas.DataFrame(index=criteria, data=tree.feature_importances_)"
   ]
  },
  {
   "cell_type": "markdown",
   "metadata": {},
   "source": [
    "It seems that not all features are equally important. We already spotted this from the correlation analysis we made earlier.\n",
    "\n",
    "Let's try a naive approach in which we compute all possible combinations of features. "
   ]
  },
  {
   "cell_type": "code",
   "execution_count": 30,
   "metadata": {},
   "outputs": [],
   "source": [
    "# Recipe taken from https://docs.python.org/3/library/itertools.html\n",
    "combinations = list(itertools.chain.from_iterable(itertools.combinations(criteria, r) for r in range(len(criteria)+1)))[1:]"
   ]
  },
  {
   "cell_type": "code",
   "execution_count": 31,
   "metadata": {},
   "outputs": [],
   "source": [
    "results = pandas.DataFrame(index=combinations, columns=scores.keys())\n",
    "\n",
    "for combination in combinations: \n",
    "    x_train, x_test, y_train, y_test = train_test_split(\n",
    "        df_balanced[list(combination)], \n",
    "        df_balanced['main'], \n",
    "        test_size=0.5, \n",
    "        random_state=12345  # For reproductibility purpose\n",
    "    )\n",
    "    tree = DecisionTreeClassifier()\n",
    "    tree.fit(x_train, y_train)\n",
    "    \n",
    "    # Evaluate model\n",
    "    y_pred = tree.predict(x_test)\n",
    "\n",
    "    for label, fun in scores.items():\n",
    "        score = fun(y_test, y_pred)\n",
    "        results.at[combination, label] = score"
   ]
  },
  {
   "cell_type": "code",
   "execution_count": 32,
   "metadata": {},
   "outputs": [
    {
     "data": {
      "text/html": [
       "<div>\n",
       "<style scoped>\n",
       "    .dataframe tbody tr th:only-of-type {\n",
       "        vertical-align: middle;\n",
       "    }\n",
       "\n",
       "    .dataframe tbody tr th {\n",
       "        vertical-align: top;\n",
       "    }\n",
       "\n",
       "    .dataframe thead th {\n",
       "        text-align: right;\n",
       "    }\n",
       "</style>\n",
       "<table border=\"1\" class=\"dataframe\">\n",
       "  <thead>\n",
       "    <tr style=\"text-align: right;\">\n",
       "      <th></th>\n",
       "      <th>recall</th>\n",
       "      <th>precision</th>\n",
       "      <th>accuracy</th>\n",
       "      <th>f1_score</th>\n",
       "    </tr>\n",
       "  </thead>\n",
       "  <tbody>\n",
       "    <tr>\n",
       "      <th>(closer_name,)</th>\n",
       "      <td>0.790008</td>\n",
       "      <td>0.766086</td>\n",
       "      <td>0.777006</td>\n",
       "      <td>0.777863</td>\n",
       "    </tr>\n",
       "    <tr>\n",
       "      <th>(most_versions,)</th>\n",
       "      <td>0.874317</td>\n",
       "      <td>0.75067</td>\n",
       "      <td>0.794367</td>\n",
       "      <td>0.807789</td>\n",
       "    </tr>\n",
       "    <tr>\n",
       "      <th>(first_released,)</th>\n",
       "      <td>0.910226</td>\n",
       "      <td>0.898305</td>\n",
       "      <td>0.904707</td>\n",
       "      <td>0.904226</td>\n",
       "    </tr>\n",
       "    <tr>\n",
       "      <th>(most_dependents,)</th>\n",
       "      <td>0.728337</td>\n",
       "      <td>0.887726</td>\n",
       "      <td>0.820216</td>\n",
       "      <td>0.800172</td>\n",
       "    </tr>\n",
       "    <tr>\n",
       "      <th>(closer_name, most_versions)</th>\n",
       "      <td>0.910226</td>\n",
       "      <td>0.796448</td>\n",
       "      <td>0.840664</td>\n",
       "      <td>0.849545</td>\n",
       "    </tr>\n",
       "    <tr>\n",
       "      <th>(closer_name, first_released)</th>\n",
       "      <td>0.919594</td>\n",
       "      <td>0.902682</td>\n",
       "      <td>0.911265</td>\n",
       "      <td>0.91106</td>\n",
       "    </tr>\n",
       "    <tr>\n",
       "      <th>(closer_name, most_dependents)</th>\n",
       "      <td>0.932084</td>\n",
       "      <td>0.825726</td>\n",
       "      <td>0.869213</td>\n",
       "      <td>0.875688</td>\n",
       "    </tr>\n",
       "    <tr>\n",
       "      <th>(most_versions, first_released)</th>\n",
       "      <td>0.91491</td>\n",
       "      <td>0.909938</td>\n",
       "      <td>0.913194</td>\n",
       "      <td>0.912417</td>\n",
       "    </tr>\n",
       "    <tr>\n",
       "      <th>(most_versions, most_dependents)</th>\n",
       "      <td>0.957845</td>\n",
       "      <td>0.787043</td>\n",
       "      <td>0.85108</td>\n",
       "      <td>0.864085</td>\n",
       "    </tr>\n",
       "    <tr>\n",
       "      <th>(first_released, most_dependents)</th>\n",
       "      <td>0.986729</td>\n",
       "      <td>0.892025</td>\n",
       "      <td>0.934414</td>\n",
       "      <td>0.93699</td>\n",
       "    </tr>\n",
       "    <tr>\n",
       "      <th>(closer_name, most_versions, first_released)</th>\n",
       "      <td>0.923497</td>\n",
       "      <td>0.913514</td>\n",
       "      <td>0.918981</td>\n",
       "      <td>0.918478</td>\n",
       "    </tr>\n",
       "    <tr>\n",
       "      <th>(closer_name, most_versions, most_dependents)</th>\n",
       "      <td>0.935207</td>\n",
       "      <td>0.861251</td>\n",
       "      <td>0.893519</td>\n",
       "      <td>0.896707</td>\n",
       "    </tr>\n",
       "    <tr>\n",
       "      <th>(closer_name, first_released, most_dependents)</th>\n",
       "      <td>0.968774</td>\n",
       "      <td>0.927504</td>\n",
       "      <td>0.947145</td>\n",
       "      <td>0.94769</td>\n",
       "    </tr>\n",
       "    <tr>\n",
       "      <th>(most_versions, first_released, most_dependents)</th>\n",
       "      <td>0.967994</td>\n",
       "      <td>0.929535</td>\n",
       "      <td>0.947917</td>\n",
       "      <td>0.948375</td>\n",
       "    </tr>\n",
       "    <tr>\n",
       "      <th>(closer_name, most_versions, first_released, most_dependents)</th>\n",
       "      <td>0.974239</td>\n",
       "      <td>0.944739</td>\n",
       "      <td>0.959105</td>\n",
       "      <td>0.959262</td>\n",
       "    </tr>\n",
       "  </tbody>\n",
       "</table>\n",
       "</div>"
      ],
      "text/plain": [
       "                                                      recall precision  \\\n",
       "(closer_name,)                                      0.790008  0.766086   \n",
       "(most_versions,)                                    0.874317   0.75067   \n",
       "(first_released,)                                   0.910226  0.898305   \n",
       "(most_dependents,)                                  0.728337  0.887726   \n",
       "(closer_name, most_versions)                        0.910226  0.796448   \n",
       "(closer_name, first_released)                       0.919594  0.902682   \n",
       "(closer_name, most_dependents)                      0.932084  0.825726   \n",
       "(most_versions, first_released)                      0.91491  0.909938   \n",
       "(most_versions, most_dependents)                    0.957845  0.787043   \n",
       "(first_released, most_dependents)                   0.986729  0.892025   \n",
       "(closer_name, most_versions, first_released)        0.923497  0.913514   \n",
       "(closer_name, most_versions, most_dependents)       0.935207  0.861251   \n",
       "(closer_name, first_released, most_dependents)      0.968774  0.927504   \n",
       "(most_versions, first_released, most_dependents)    0.967994  0.929535   \n",
       "(closer_name, most_versions, first_released, mo...  0.974239  0.944739   \n",
       "\n",
       "                                                    accuracy  f1_score  \n",
       "(closer_name,)                                      0.777006  0.777863  \n",
       "(most_versions,)                                    0.794367  0.807789  \n",
       "(first_released,)                                   0.904707  0.904226  \n",
       "(most_dependents,)                                  0.820216  0.800172  \n",
       "(closer_name, most_versions)                        0.840664  0.849545  \n",
       "(closer_name, first_released)                       0.911265   0.91106  \n",
       "(closer_name, most_dependents)                      0.869213  0.875688  \n",
       "(most_versions, first_released)                     0.913194  0.912417  \n",
       "(most_versions, most_dependents)                     0.85108  0.864085  \n",
       "(first_released, most_dependents)                   0.934414   0.93699  \n",
       "(closer_name, most_versions, first_released)        0.918981  0.918478  \n",
       "(closer_name, most_versions, most_dependents)       0.893519  0.896707  \n",
       "(closer_name, first_released, most_dependents)      0.947145   0.94769  \n",
       "(most_versions, first_released, most_dependents)    0.947917  0.948375  \n",
       "(closer_name, most_versions, first_released, mo...  0.959105  0.959262  "
      ]
     },
     "execution_count": 32,
     "metadata": {},
     "output_type": "execute_result"
    }
   ],
   "source": [
    "# The following cell contains too many information, we will filter this later.\n",
    "results"
   ]
  },
  {
   "cell_type": "code",
   "execution_count": 33,
   "metadata": {},
   "outputs": [
    {
     "data": {
      "text/html": [
       "<div>\n",
       "<style scoped>\n",
       "    .dataframe tbody tr th:only-of-type {\n",
       "        vertical-align: middle;\n",
       "    }\n",
       "\n",
       "    .dataframe tbody tr th {\n",
       "        vertical-align: top;\n",
       "    }\n",
       "\n",
       "    .dataframe thead th {\n",
       "        text-align: right;\n",
       "    }\n",
       "</style>\n",
       "<table border=\"1\" class=\"dataframe\">\n",
       "  <thead>\n",
       "    <tr style=\"text-align: right;\">\n",
       "      <th></th>\n",
       "      <th>recall</th>\n",
       "      <th>precision</th>\n",
       "      <th>accuracy</th>\n",
       "      <th>f1_score</th>\n",
       "      <th>recall_rank</th>\n",
       "      <th>precision_rank</th>\n",
       "      <th>accuracy_rank</th>\n",
       "      <th>f1_score_rank</th>\n",
       "    </tr>\n",
       "  </thead>\n",
       "  <tbody>\n",
       "    <tr>\n",
       "      <th>(closer_name, most_versions, first_released, most_dependents)</th>\n",
       "      <td>0.974239</td>\n",
       "      <td>0.944739</td>\n",
       "      <td>0.959105</td>\n",
       "      <td>0.959262</td>\n",
       "      <td>2.0</td>\n",
       "      <td>1.0</td>\n",
       "      <td>1.0</td>\n",
       "      <td>1.0</td>\n",
       "    </tr>\n",
       "    <tr>\n",
       "      <th>(most_versions, first_released, most_dependents)</th>\n",
       "      <td>0.967994</td>\n",
       "      <td>0.929535</td>\n",
       "      <td>0.947917</td>\n",
       "      <td>0.948375</td>\n",
       "      <td>4.0</td>\n",
       "      <td>2.0</td>\n",
       "      <td>2.0</td>\n",
       "      <td>2.0</td>\n",
       "    </tr>\n",
       "    <tr>\n",
       "      <th>(closer_name, first_released, most_dependents)</th>\n",
       "      <td>0.968774</td>\n",
       "      <td>0.927504</td>\n",
       "      <td>0.947145</td>\n",
       "      <td>0.94769</td>\n",
       "      <td>3.0</td>\n",
       "      <td>3.0</td>\n",
       "      <td>3.0</td>\n",
       "      <td>3.0</td>\n",
       "    </tr>\n",
       "    <tr>\n",
       "      <th>(first_released, most_dependents)</th>\n",
       "      <td>0.986729</td>\n",
       "      <td>0.892025</td>\n",
       "      <td>0.934414</td>\n",
       "      <td>0.93699</td>\n",
       "      <td>1.0</td>\n",
       "      <td>8.0</td>\n",
       "      <td>4.0</td>\n",
       "      <td>4.0</td>\n",
       "    </tr>\n",
       "    <tr>\n",
       "      <th>(closer_name, most_versions, first_released)</th>\n",
       "      <td>0.923497</td>\n",
       "      <td>0.913514</td>\n",
       "      <td>0.918981</td>\n",
       "      <td>0.918478</td>\n",
       "      <td>8.0</td>\n",
       "      <td>4.0</td>\n",
       "      <td>5.0</td>\n",
       "      <td>5.0</td>\n",
       "    </tr>\n",
       "    <tr>\n",
       "      <th>(most_versions, first_released)</th>\n",
       "      <td>0.91491</td>\n",
       "      <td>0.909938</td>\n",
       "      <td>0.913194</td>\n",
       "      <td>0.912417</td>\n",
       "      <td>10.0</td>\n",
       "      <td>5.0</td>\n",
       "      <td>6.0</td>\n",
       "      <td>6.0</td>\n",
       "    </tr>\n",
       "    <tr>\n",
       "      <th>(closer_name, first_released)</th>\n",
       "      <td>0.919594</td>\n",
       "      <td>0.902682</td>\n",
       "      <td>0.911265</td>\n",
       "      <td>0.91106</td>\n",
       "      <td>9.0</td>\n",
       "      <td>6.0</td>\n",
       "      <td>7.0</td>\n",
       "      <td>7.0</td>\n",
       "    </tr>\n",
       "    <tr>\n",
       "      <th>(first_released,)</th>\n",
       "      <td>0.910226</td>\n",
       "      <td>0.898305</td>\n",
       "      <td>0.904707</td>\n",
       "      <td>0.904226</td>\n",
       "      <td>11.0</td>\n",
       "      <td>7.0</td>\n",
       "      <td>8.0</td>\n",
       "      <td>8.0</td>\n",
       "    </tr>\n",
       "    <tr>\n",
       "      <th>(closer_name, most_versions, most_dependents)</th>\n",
       "      <td>0.935207</td>\n",
       "      <td>0.861251</td>\n",
       "      <td>0.893519</td>\n",
       "      <td>0.896707</td>\n",
       "      <td>6.0</td>\n",
       "      <td>10.0</td>\n",
       "      <td>9.0</td>\n",
       "      <td>9.0</td>\n",
       "    </tr>\n",
       "    <tr>\n",
       "      <th>(closer_name, most_dependents)</th>\n",
       "      <td>0.932084</td>\n",
       "      <td>0.825726</td>\n",
       "      <td>0.869213</td>\n",
       "      <td>0.875688</td>\n",
       "      <td>7.0</td>\n",
       "      <td>11.0</td>\n",
       "      <td>10.0</td>\n",
       "      <td>10.0</td>\n",
       "    </tr>\n",
       "  </tbody>\n",
       "</table>\n",
       "</div>"
      ],
      "text/plain": [
       "                                                      recall precision  \\\n",
       "(closer_name, most_versions, first_released, mo...  0.974239  0.944739   \n",
       "(most_versions, first_released, most_dependents)    0.967994  0.929535   \n",
       "(closer_name, first_released, most_dependents)      0.968774  0.927504   \n",
       "(first_released, most_dependents)                   0.986729  0.892025   \n",
       "(closer_name, most_versions, first_released)        0.923497  0.913514   \n",
       "(most_versions, first_released)                      0.91491  0.909938   \n",
       "(closer_name, first_released)                       0.919594  0.902682   \n",
       "(first_released,)                                   0.910226  0.898305   \n",
       "(closer_name, most_versions, most_dependents)       0.935207  0.861251   \n",
       "(closer_name, most_dependents)                      0.932084  0.825726   \n",
       "\n",
       "                                                    accuracy  f1_score  \\\n",
       "(closer_name, most_versions, first_released, mo...  0.959105  0.959262   \n",
       "(most_versions, first_released, most_dependents)    0.947917  0.948375   \n",
       "(closer_name, first_released, most_dependents)      0.947145   0.94769   \n",
       "(first_released, most_dependents)                   0.934414   0.93699   \n",
       "(closer_name, most_versions, first_released)        0.918981  0.918478   \n",
       "(most_versions, first_released)                     0.913194  0.912417   \n",
       "(closer_name, first_released)                       0.911265   0.91106   \n",
       "(first_released,)                                   0.904707  0.904226   \n",
       "(closer_name, most_versions, most_dependents)       0.893519  0.896707   \n",
       "(closer_name, most_dependents)                      0.869213  0.875688   \n",
       "\n",
       "                                                    recall_rank  \\\n",
       "(closer_name, most_versions, first_released, mo...          2.0   \n",
       "(most_versions, first_released, most_dependents)            4.0   \n",
       "(closer_name, first_released, most_dependents)              3.0   \n",
       "(first_released, most_dependents)                           1.0   \n",
       "(closer_name, most_versions, first_released)                8.0   \n",
       "(most_versions, first_released)                            10.0   \n",
       "(closer_name, first_released)                               9.0   \n",
       "(first_released,)                                          11.0   \n",
       "(closer_name, most_versions, most_dependents)               6.0   \n",
       "(closer_name, most_dependents)                              7.0   \n",
       "\n",
       "                                                    precision_rank  \\\n",
       "(closer_name, most_versions, first_released, mo...             1.0   \n",
       "(most_versions, first_released, most_dependents)               2.0   \n",
       "(closer_name, first_released, most_dependents)                 3.0   \n",
       "(first_released, most_dependents)                              8.0   \n",
       "(closer_name, most_versions, first_released)                   4.0   \n",
       "(most_versions, first_released)                                5.0   \n",
       "(closer_name, first_released)                                  6.0   \n",
       "(first_released,)                                              7.0   \n",
       "(closer_name, most_versions, most_dependents)                 10.0   \n",
       "(closer_name, most_dependents)                                11.0   \n",
       "\n",
       "                                                    accuracy_rank  \\\n",
       "(closer_name, most_versions, first_released, mo...            1.0   \n",
       "(most_versions, first_released, most_dependents)              2.0   \n",
       "(closer_name, first_released, most_dependents)                3.0   \n",
       "(first_released, most_dependents)                             4.0   \n",
       "(closer_name, most_versions, first_released)                  5.0   \n",
       "(most_versions, first_released)                               6.0   \n",
       "(closer_name, first_released)                                 7.0   \n",
       "(first_released,)                                             8.0   \n",
       "(closer_name, most_versions, most_dependents)                 9.0   \n",
       "(closer_name, most_dependents)                               10.0   \n",
       "\n",
       "                                                    f1_score_rank  \n",
       "(closer_name, most_versions, first_released, mo...            1.0  \n",
       "(most_versions, first_released, most_dependents)              2.0  \n",
       "(closer_name, first_released, most_dependents)                3.0  \n",
       "(first_released, most_dependents)                             4.0  \n",
       "(closer_name, most_versions, first_released)                  5.0  \n",
       "(most_versions, first_released)                               6.0  \n",
       "(closer_name, first_released)                                 7.0  \n",
       "(first_released,)                                             8.0  \n",
       "(closer_name, most_versions, most_dependents)                 9.0  \n",
       "(closer_name, most_dependents)                               10.0  "
      ]
     },
     "execution_count": 33,
     "metadata": {},
     "output_type": "execute_result"
    }
   ],
   "source": [
    "# We compute ranks to ease identifying the \"best\" combinations\n",
    "(\n",
    "    results\n",
    "    .assign(**{\n",
    "        '{}_rank'.format(c): (lambda c: (lambda d: d[c].rank(method='min', ascending=False)))(c)\n",
    "        for c in scores.keys()\n",
    "    })\n",
    "    .sort_values('f1_score_rank')\n",
    "    .head(10)\n",
    ")"
   ]
  },
  {
   "cell_type": "markdown",
   "metadata": {},
   "source": [
    "At this point, it looks like \"most_versions\" and \"first_released\" is the smallest subset of criteria that still provides very good results.\n",
    "\n",
    "Because sklearn has a \"feature ranking with recursive feature elimination\" utility, we could achieve the same process using it. Also, I've just discovered this, so I want to play a little bit with it ;-)"
   ]
  },
  {
   "cell_type": "code",
   "execution_count": 34,
   "metadata": {},
   "outputs": [],
   "source": [
    "from sklearn.feature_selection import RFE\n",
    "\n",
    "results = pandas.DataFrame(index=range(1, len(criteria) + 1), columns=['features'] + list(scores.keys()))\n",
    "\n",
    "x_train, x_test, y_train, y_test = train_test_split(\n",
    "    df_balanced[criteria], \n",
    "    df_balanced['main'], \n",
    "    test_size=0.5, \n",
    "    random_state=12345  # For reproductibility purpose\n",
    ")\n",
    "\n",
    "for n_features in range(1, len(criteria) + 1):\n",
    "    selector = RFE(DecisionTreeClassifier(), n_features)\n",
    "    selector.fit(x_train, y_train)\n",
    "    \n",
    "    # Identify features\n",
    "    results.at[n_features, 'features'] = pandas.np.extract(selector.support_, criteria)\n",
    "    \n",
    "    # Evaluate model\n",
    "    y_pred = selector.predict(x_test)\n",
    "\n",
    "    for label, fun in scores.items():\n",
    "        score = fun(y_test, y_pred)\n",
    "        results.at[n_features, label] = score"
   ]
  },
  {
   "cell_type": "code",
   "execution_count": 35,
   "metadata": {},
   "outputs": [
    {
     "data": {
      "text/html": [
       "<div>\n",
       "<style scoped>\n",
       "    .dataframe tbody tr th:only-of-type {\n",
       "        vertical-align: middle;\n",
       "    }\n",
       "\n",
       "    .dataframe tbody tr th {\n",
       "        vertical-align: top;\n",
       "    }\n",
       "\n",
       "    .dataframe thead th {\n",
       "        text-align: right;\n",
       "    }\n",
       "</style>\n",
       "<table border=\"1\" class=\"dataframe\">\n",
       "  <thead>\n",
       "    <tr style=\"text-align: right;\">\n",
       "      <th></th>\n",
       "      <th>features</th>\n",
       "      <th>recall</th>\n",
       "      <th>precision</th>\n",
       "      <th>accuracy</th>\n",
       "      <th>f1_score</th>\n",
       "    </tr>\n",
       "  </thead>\n",
       "  <tbody>\n",
       "    <tr>\n",
       "      <th>1</th>\n",
       "      <td>[first_released]</td>\n",
       "      <td>0.910226</td>\n",
       "      <td>0.898305</td>\n",
       "      <td>0.904707</td>\n",
       "      <td>0.904226</td>\n",
       "    </tr>\n",
       "    <tr>\n",
       "      <th>2</th>\n",
       "      <td>[first_released, most_dependents]</td>\n",
       "      <td>0.986729</td>\n",
       "      <td>0.893286</td>\n",
       "      <td>0.935185</td>\n",
       "      <td>0.937685</td>\n",
       "    </tr>\n",
       "    <tr>\n",
       "      <th>3</th>\n",
       "      <td>[closer_name, first_released, most_dependents]</td>\n",
       "      <td>0.968774</td>\n",
       "      <td>0.926811</td>\n",
       "      <td>0.946759</td>\n",
       "      <td>0.947328</td>\n",
       "    </tr>\n",
       "    <tr>\n",
       "      <th>4</th>\n",
       "      <td>[closer_name, most_versions, first_released, m...</td>\n",
       "      <td>0.97502</td>\n",
       "      <td>0.944781</td>\n",
       "      <td>0.959491</td>\n",
       "      <td>0.959662</td>\n",
       "    </tr>\n",
       "  </tbody>\n",
       "</table>\n",
       "</div>"
      ],
      "text/plain": [
       "                                            features    recall precision  \\\n",
       "1                                   [first_released]  0.910226  0.898305   \n",
       "2                  [first_released, most_dependents]  0.986729  0.893286   \n",
       "3     [closer_name, first_released, most_dependents]  0.968774  0.926811   \n",
       "4  [closer_name, most_versions, first_released, m...   0.97502  0.944781   \n",
       "\n",
       "   accuracy  f1_score  \n",
       "1  0.904707  0.904226  \n",
       "2  0.935185  0.937685  \n",
       "3  0.946759  0.947328  \n",
       "4  0.959491  0.959662  "
      ]
     },
     "execution_count": 35,
     "metadata": {},
     "output_type": "execute_result"
    }
   ],
   "source": [
    "results"
   ]
  }
 ],
 "metadata": {
  "kernelspec": {
   "display_name": "Python 3",
   "language": "python",
   "name": "python3"
  },
  "language_info": {
   "codemirror_mode": {
    "name": "ipython",
    "version": 3
   },
   "file_extension": ".py",
   "mimetype": "text/x-python",
   "name": "python",
   "nbconvert_exporter": "python",
   "pygments_lexer": "ipython3",
   "version": "3.6.6"
  }
 },
 "nbformat": 4,
 "nbformat_minor": 2
}
